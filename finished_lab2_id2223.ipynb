{
  "cells": [
    {
      "cell_type": "markdown",
      "metadata": {
        "id": "view-in-github",
        "colab_type": "text"
      },
      "source": [
        "<a href=\"https://colab.research.google.com/github/emilstahl97/Scalable-Machine-Learning-and-Deep-Learning-ID2223/blob/dev/finished_lab2_id2223.ipynb\" target=\"_parent\"><img src=\"https://colab.research.google.com/assets/colab-badge.svg\" alt=\"Open In Colab\"/></a>"
      ]
    },
    {
      "cell_type": "markdown",
      "source": [
        "#**Scalable Machine Learning and Deep Learning - Lab 2**\n",
        "\n",
        "By:\n",
        "\n",
        "Erik Kongpachith,\n",
        "Emil Ståhl, and\n",
        "Selemawit Fsha Nguse\n",
        "\n",
        "Date: December 17th, 2021\n",
        "\n",
        "The goal of this assignment is to train a network to produce sentence embedding, by implementing the proposed method of the Sentence-BERT (S-BERT) paper. In this lab we download and prepare data, fine-tune a pre-trained Transformer network, and finally evaluate on the official Semantic Textual Similarity (STS) benchmark. \n",
        "\n",
        "1. S-BERT Regression Objective\n",
        "2. S-BERT Classificatiob Objective\n",
        "3. Semantic Search System"
      ],
      "metadata": {
        "id": "4I5obp-Xg8lV"
      }
    },
    {
      "cell_type": "markdown",
      "source": [
        "Add dependencies to PIP"
      ],
      "metadata": {
        "id": "ka5YiA0Xb98z"
      }
    },
    {
      "cell_type": "code",
      "source": [
        "!pip install sentence_transformers\n",
        "!pip install transformers\n",
        "!pip install tokenizers\n",
        "!pip install torch\n",
        "!pip install wget\n",
        "!pip install pyspark"
      ],
      "metadata": {
        "colab": {
          "base_uri": "https://localhost:8080/"
        },
        "id": "oXUL4qsXGjqT",
        "outputId": "2abf73f1-9f36-4f1e-8680-92360e3e3783"
      },
      "execution_count": 55,
      "outputs": [
        {
          "output_type": "stream",
          "name": "stdout",
          "text": [
            "Requirement already satisfied: sentence_transformers in /usr/local/lib/python3.7/dist-packages (2.1.0)\n",
            "Requirement already satisfied: sentencepiece in /usr/local/lib/python3.7/dist-packages (from sentence_transformers) (0.1.96)\n",
            "Requirement already satisfied: tqdm in /usr/local/lib/python3.7/dist-packages (from sentence_transformers) (4.62.3)\n",
            "Requirement already satisfied: torchvision in /usr/local/lib/python3.7/dist-packages (from sentence_transformers) (0.11.1+cu111)\n",
            "Requirement already satisfied: huggingface-hub in /usr/local/lib/python3.7/dist-packages (from sentence_transformers) (0.2.1)\n",
            "Requirement already satisfied: tokenizers>=0.10.3 in /usr/local/lib/python3.7/dist-packages (from sentence_transformers) (0.10.3)\n",
            "Requirement already satisfied: scipy in /usr/local/lib/python3.7/dist-packages (from sentence_transformers) (1.4.1)\n",
            "Requirement already satisfied: nltk in /usr/local/lib/python3.7/dist-packages (from sentence_transformers) (3.2.5)\n",
            "Requirement already satisfied: transformers<5.0.0,>=4.6.0 in /usr/local/lib/python3.7/dist-packages (from sentence_transformers) (4.14.1)\n",
            "Requirement already satisfied: scikit-learn in /usr/local/lib/python3.7/dist-packages (from sentence_transformers) (1.0.1)\n",
            "Requirement already satisfied: numpy in /usr/local/lib/python3.7/dist-packages (from sentence_transformers) (1.19.5)\n",
            "Requirement already satisfied: torch>=1.6.0 in /usr/local/lib/python3.7/dist-packages (from sentence_transformers) (1.10.0+cu111)\n",
            "Requirement already satisfied: typing-extensions in /usr/local/lib/python3.7/dist-packages (from torch>=1.6.0->sentence_transformers) (3.10.0.2)\n",
            "Requirement already satisfied: sacremoses in /usr/local/lib/python3.7/dist-packages (from transformers<5.0.0,>=4.6.0->sentence_transformers) (0.0.46)\n",
            "Requirement already satisfied: filelock in /usr/local/lib/python3.7/dist-packages (from transformers<5.0.0,>=4.6.0->sentence_transformers) (3.4.0)\n",
            "Requirement already satisfied: importlib-metadata in /usr/local/lib/python3.7/dist-packages (from transformers<5.0.0,>=4.6.0->sentence_transformers) (4.8.2)\n",
            "Requirement already satisfied: pyyaml>=5.1 in /usr/local/lib/python3.7/dist-packages (from transformers<5.0.0,>=4.6.0->sentence_transformers) (6.0)\n",
            "Requirement already satisfied: packaging>=20.0 in /usr/local/lib/python3.7/dist-packages (from transformers<5.0.0,>=4.6.0->sentence_transformers) (21.3)\n",
            "Requirement already satisfied: requests in /usr/local/lib/python3.7/dist-packages (from transformers<5.0.0,>=4.6.0->sentence_transformers) (2.23.0)\n",
            "Requirement already satisfied: regex!=2019.12.17 in /usr/local/lib/python3.7/dist-packages (from transformers<5.0.0,>=4.6.0->sentence_transformers) (2019.12.20)\n",
            "Requirement already satisfied: pyparsing!=3.0.5,>=2.0.2 in /usr/local/lib/python3.7/dist-packages (from packaging>=20.0->transformers<5.0.0,>=4.6.0->sentence_transformers) (3.0.6)\n",
            "Requirement already satisfied: zipp>=0.5 in /usr/local/lib/python3.7/dist-packages (from importlib-metadata->transformers<5.0.0,>=4.6.0->sentence_transformers) (3.6.0)\n",
            "Requirement already satisfied: six in /usr/local/lib/python3.7/dist-packages (from nltk->sentence_transformers) (1.15.0)\n",
            "Requirement already satisfied: idna<3,>=2.5 in /usr/local/lib/python3.7/dist-packages (from requests->transformers<5.0.0,>=4.6.0->sentence_transformers) (2.10)\n",
            "Requirement already satisfied: urllib3!=1.25.0,!=1.25.1,<1.26,>=1.21.1 in /usr/local/lib/python3.7/dist-packages (from requests->transformers<5.0.0,>=4.6.0->sentence_transformers) (1.24.3)\n",
            "Requirement already satisfied: chardet<4,>=3.0.2 in /usr/local/lib/python3.7/dist-packages (from requests->transformers<5.0.0,>=4.6.0->sentence_transformers) (3.0.4)\n",
            "Requirement already satisfied: certifi>=2017.4.17 in /usr/local/lib/python3.7/dist-packages (from requests->transformers<5.0.0,>=4.6.0->sentence_transformers) (2021.10.8)\n",
            "Requirement already satisfied: joblib in /usr/local/lib/python3.7/dist-packages (from sacremoses->transformers<5.0.0,>=4.6.0->sentence_transformers) (1.1.0)\n",
            "Requirement already satisfied: click in /usr/local/lib/python3.7/dist-packages (from sacremoses->transformers<5.0.0,>=4.6.0->sentence_transformers) (7.1.2)\n",
            "Requirement already satisfied: threadpoolctl>=2.0.0 in /usr/local/lib/python3.7/dist-packages (from scikit-learn->sentence_transformers) (3.0.0)\n",
            "Requirement already satisfied: pillow!=8.3.0,>=5.3.0 in /usr/local/lib/python3.7/dist-packages (from torchvision->sentence_transformers) (7.1.2)\n",
            "Requirement already satisfied: transformers in /usr/local/lib/python3.7/dist-packages (4.14.1)\n",
            "Requirement already satisfied: requests in /usr/local/lib/python3.7/dist-packages (from transformers) (2.23.0)\n",
            "Requirement already satisfied: importlib-metadata in /usr/local/lib/python3.7/dist-packages (from transformers) (4.8.2)\n",
            "Requirement already satisfied: huggingface-hub<1.0,>=0.1.0 in /usr/local/lib/python3.7/dist-packages (from transformers) (0.2.1)\n",
            "Requirement already satisfied: filelock in /usr/local/lib/python3.7/dist-packages (from transformers) (3.4.0)\n",
            "Requirement already satisfied: pyyaml>=5.1 in /usr/local/lib/python3.7/dist-packages (from transformers) (6.0)\n",
            "Requirement already satisfied: regex!=2019.12.17 in /usr/local/lib/python3.7/dist-packages (from transformers) (2019.12.20)\n",
            "Requirement already satisfied: tokenizers<0.11,>=0.10.1 in /usr/local/lib/python3.7/dist-packages (from transformers) (0.10.3)\n",
            "Requirement already satisfied: tqdm>=4.27 in /usr/local/lib/python3.7/dist-packages (from transformers) (4.62.3)\n",
            "Requirement already satisfied: numpy>=1.17 in /usr/local/lib/python3.7/dist-packages (from transformers) (1.19.5)\n",
            "Requirement already satisfied: packaging>=20.0 in /usr/local/lib/python3.7/dist-packages (from transformers) (21.3)\n",
            "Requirement already satisfied: sacremoses in /usr/local/lib/python3.7/dist-packages (from transformers) (0.0.46)\n",
            "Requirement already satisfied: typing-extensions>=3.7.4.3 in /usr/local/lib/python3.7/dist-packages (from huggingface-hub<1.0,>=0.1.0->transformers) (3.10.0.2)\n",
            "Requirement already satisfied: pyparsing!=3.0.5,>=2.0.2 in /usr/local/lib/python3.7/dist-packages (from packaging>=20.0->transformers) (3.0.6)\n",
            "Requirement already satisfied: zipp>=0.5 in /usr/local/lib/python3.7/dist-packages (from importlib-metadata->transformers) (3.6.0)\n",
            "Requirement already satisfied: chardet<4,>=3.0.2 in /usr/local/lib/python3.7/dist-packages (from requests->transformers) (3.0.4)\n",
            "Requirement already satisfied: urllib3!=1.25.0,!=1.25.1,<1.26,>=1.21.1 in /usr/local/lib/python3.7/dist-packages (from requests->transformers) (1.24.3)\n",
            "Requirement already satisfied: idna<3,>=2.5 in /usr/local/lib/python3.7/dist-packages (from requests->transformers) (2.10)\n",
            "Requirement already satisfied: certifi>=2017.4.17 in /usr/local/lib/python3.7/dist-packages (from requests->transformers) (2021.10.8)\n",
            "Requirement already satisfied: six in /usr/local/lib/python3.7/dist-packages (from sacremoses->transformers) (1.15.0)\n",
            "Requirement already satisfied: click in /usr/local/lib/python3.7/dist-packages (from sacremoses->transformers) (7.1.2)\n",
            "Requirement already satisfied: joblib in /usr/local/lib/python3.7/dist-packages (from sacremoses->transformers) (1.1.0)\n",
            "Requirement already satisfied: tokenizers in /usr/local/lib/python3.7/dist-packages (0.10.3)\n",
            "Requirement already satisfied: torch in /usr/local/lib/python3.7/dist-packages (1.10.0+cu111)\n",
            "Requirement already satisfied: typing-extensions in /usr/local/lib/python3.7/dist-packages (from torch) (3.10.0.2)\n",
            "Requirement already satisfied: wget in /usr/local/lib/python3.7/dist-packages (3.2)\n",
            "Requirement already satisfied: pyspark in /usr/local/lib/python3.7/dist-packages (3.2.0)\n",
            "Requirement already satisfied: py4j==0.10.9.2 in /usr/local/lib/python3.7/dist-packages (from pyspark) (0.10.9.2)\n"
          ]
        }
      ]
    },
    {
      "cell_type": "markdown",
      "source": [
        "Import libraries"
      ],
      "metadata": {
        "id": "K7tzQW6ScEcg"
      }
    },
    {
      "cell_type": "code",
      "execution_count": 89,
      "metadata": {
        "id": "yugvCJ05CMg9"
      },
      "outputs": [],
      "source": [
        "from pyspark.sql import SparkSession\n",
        "from pyspark.sql.functions import *\n",
        "from pyspark.sql.types import *\n",
        "from pyspark.ml.feature import StringIndexer\n",
        "\n",
        "import torch\n",
        "import string\n",
        "import numpy as np\n",
        "import json\n",
        "import tensorflow as tf\n",
        "import re\n",
        "import scipy\n",
        "import wget\n",
        "import pandas as pd\n",
        "import sklearn\n",
        "import math\n",
        "import os\n",
        "import csv\n",
        "\n",
        "from datetime import datetime\n",
        "from tensorflow import keras\n",
        "from tensorflow.keras import layers\n",
        "from tensorflow.keras.layers import Input\n",
        "from sentence_transformers import SentenceTransformer\n",
        "from sentence_transformers import LoggingHandler\n",
        "from sentence_transformers import models, losses, util\n",
        "from sentence_transformers.readers import InputExample\n",
        "from sklearn.metrics.pairwise import cosine_similarity\n",
        "from sentence_transformers.evaluation import EmbeddingSimilarityEvaluator\n",
        "from torch.utils.data import DataLoader\n",
        "from transformers import BertTokenizer, TFBertModel, BertConfig\n",
        "from tokenizers import BertWordPieceTokenizer"
      ]
    },
    {
      "cell_type": "markdown",
      "metadata": {
        "id": "HR1aiNbSpaAa"
      },
      "source": [
        "**Mount Google Drive to load saved models**"
      ]
    },
    {
      "cell_type": "code",
      "execution_count": 57,
      "metadata": {
        "colab": {
          "base_uri": "https://localhost:8080/"
        },
        "id": "TlNVUAMfpXko",
        "outputId": "2022ccbc-d682-4e88-b089-09685a50f773"
      },
      "outputs": [
        {
          "output_type": "stream",
          "name": "stdout",
          "text": [
            "Mounted at /content/drive\n",
            "Dataset exists\n"
          ]
        }
      ],
      "source": [
        "# README - Execute this cell to mount the notebook in your google drive. \n",
        "# Execute the cell and follow the link to sign and, paste the given key in the little text box. The credentials are only available for you. \n",
        "\n",
        "import os\n",
        "from google.colab import drive\n",
        "drive.mount('/content/drive', force_remount=True)\n",
        "\n",
        "if not os.path.exists(\"/content/drive/MyDrive/stsbenchmark\"):\n",
        "  print(\"Dataset does not exists, pullinng repository...\") \n",
        "  os.mkdir(\"/content/drive/MyDrive/stsbenchmark\")\n",
        "  os.chdir(\"/content/drive/MyDrive/stsbenchmark\")\n",
        "  !git clone https://github.com/emilstahl97/stsbenchmark.git\n",
        "  !git pull\n",
        "else:\n",
        "  print(\"Dataset exists\")\n",
        "  os.chdir(\"/content/drive/MyDrive/stsbenchmark\")\n",
        "\n",
        "# from GitHub repository\n",
        "train_path = \"/content/drive/MyDrive/stsbenchmark/stsbenchmark/sts-train.csv\"\n",
        "test_path = \"/content/drive/MyDrive/stsbenchmark/stsbenchmark/sts-test.csv\"\n",
        "dev_path = \"/content/drive/MyDrive/stsbenchmark/stsbenchmark/sts-dev.csv\"\n",
        "\n",
        "news_path = \"/content/drive/MyDrive/stsbenchmark/stsbenchmark/news.csv\"\n",
        "\n",
        "# saved models\n",
        "if not os.path.exists(\"/content/drive/MyDrive/id2223/lab2/models\"):\n",
        "  print(\"/models does not exists, creating...\")\n",
        "  os.makedirs(\"/content/drive/MyDrive/id2223/lab2/models\")\n",
        "\n",
        "if not os.path.exists(\"/content/drive/MyDrive/id2223/lab2/results\"):\n",
        "  print(\"/results does not exists, creating...\")\n",
        "  os.makedirs(\"/content/drive/MyDrive/id2223/lab2/results/regression_results/\")\n",
        "\n",
        "\n",
        "regression_model_path = \"/content/drive/MyDrive/id2223/lab2/models/regression_model\"\n",
        "regression_results_path = \"/content/drive/MyDrive/id2223/lab2/models/regression_results\"\n",
        "classification_model_path = '/content/drive/MyDrive/stsbenchmark/stsbenchmark/models/training_snli'"
      ]
    },
    {
      "cell_type": "markdown",
      "metadata": {
        "id": "BHTmDfTnpiYW"
      },
      "source": [
        "## **1. S-BERT REGRESSION OBJECTIVE**\n",
        "\n",
        "The regression loss functions, takes into account the cosine-similarity between two sentence embedding. Hence, allowing us to directly tune the distance of the generated sentence embedding. The official STS training dataset can be found here: STSBenchmark\n",
        "Since cosine-similarity is always in the range [−1, 1], we can set the most similar sentences to have a similarity of 1, and the most dissimilar to have −1. Sentence pairs with an intermediate label can easily be linearly mapped into this range, to get their target regression label. "
      ]
    },
    {
      "cell_type": "code",
      "execution_count": 58,
      "metadata": {
        "colab": {
          "base_uri": "https://localhost:8080/"
        },
        "id": "YOi6F9ps0biy",
        "outputId": "8c3e5455-b3ef-4181-f96e-a495a5af22e3"
      },
      "outputs": [
        {
          "output_type": "stream",
          "name": "stderr",
          "text": [
            "Some weights of the model checkpoint at bert-base-uncased were not used when initializing BertModel: ['cls.predictions.bias', 'cls.predictions.transform.LayerNorm.weight', 'cls.seq_relationship.weight', 'cls.predictions.transform.dense.weight', 'cls.predictions.transform.LayerNorm.bias', 'cls.seq_relationship.bias', 'cls.predictions.decoder.weight', 'cls.predictions.transform.dense.bias']\n",
            "- This IS expected if you are initializing BertModel from the checkpoint of a model trained on another task or with another architecture (e.g. initializing a BertForSequenceClassification model from a BertForPreTraining model).\n",
            "- This IS NOT expected if you are initializing BertModel from the checkpoint of a model that you expect to be exactly identical (initializing a BertForSequenceClassification model from a BertForSequenceClassification model).\n"
          ]
        }
      ],
      "source": [
        "word_embedding_model = models.Transformer('bert-base-uncased')"
      ]
    },
    {
      "cell_type": "code",
      "source": [
        "train_samples = []\n",
        "test_samples = []\n",
        "dev_samples = []\n",
        "\n",
        "columns = ['title', 'type', 'year', 'id', 'score', 'sentence_1', 'sentence_2']\n",
        "paths = {\"train\": train_path, \"test\": test_path, \"dev\": dev_path}\n",
        "\n",
        "for key, path in paths.items():\n",
        "  with open(path, newline='') as f:\n",
        "    temp = csv.DictReader(f, delimiter='\\t', fieldnames=columns, quoting=csv.QUOTE_NONE)\n",
        "    for row in temp:\n",
        "        score = float(row['score']) / 2.5 - 1 \n",
        "        input_example = InputExample(texts=[row['sentence_1'], row['sentence_2']], label=score)\n",
        "        if (key == \"train\"):\n",
        "          train_samples.append(input_example)\n",
        "        elif key == \"test\":\n",
        "          test_samples.append(input_example)\n",
        "        elif key == \"dev\":\n",
        "          dev_samples.append(input_example)\n",
        "        else:\n",
        "          raise Exception(f\"key {key} not known, exiting\")"
      ],
      "metadata": {
        "id": "5k1SO-rlMs8-"
      },
      "execution_count": 59,
      "outputs": []
    },
    {
      "cell_type": "code",
      "execution_count": 60,
      "metadata": {
        "id": "epxEtXh2GMYu"
      },
      "outputs": [],
      "source": [
        "train_batch_size = 16\n",
        "learn_rate = 2e-5\n",
        "num_epochs = 1"
      ]
    },
    {
      "cell_type": "markdown",
      "metadata": {
        "id": "WP5UDhSi2RFh"
      },
      "source": [
        "Mean-pooling strategy"
      ]
    },
    {
      "cell_type": "code",
      "execution_count": 61,
      "metadata": {
        "id": "fIRLPEnrGhG6"
      },
      "outputs": [],
      "source": [
        "pooling_model = models.Pooling(word_embedding_model.get_word_embedding_dimension(),\n",
        "                               pooling_mode_mean_tokens=True,\n",
        "                               pooling_mode_cls_token=False,\n",
        "                               pooling_mode_max_tokens=False)"
      ]
    },
    {
      "cell_type": "code",
      "execution_count": 62,
      "metadata": {
        "id": "RozMxge52jC7"
      },
      "outputs": [],
      "source": [
        "model = SentenceTransformer(modules=[word_embedding_model, pooling_model])"
      ]
    },
    {
      "cell_type": "code",
      "execution_count": 63,
      "metadata": {
        "id": "iht5w4HJlhtt"
      },
      "outputs": [],
      "source": [
        "train_dataloader = DataLoader(train_samples, shuffle=True, batch_size=train_batch_size)\n",
        "train_loss = losses.CosineSimilarityLoss(model=model)"
      ]
    },
    {
      "cell_type": "code",
      "execution_count": 64,
      "metadata": {
        "id": "JchPxNSDT2f9"
      },
      "outputs": [],
      "source": [
        "evaluator = EmbeddingSimilarityEvaluator.from_input_examples(dev_samples, batch_size=train_batch_size, name='sts-dev')"
      ]
    },
    {
      "cell_type": "markdown",
      "metadata": {
        "id": "yQ2IPb4y7CVk"
      },
      "source": [
        "10% of train dataset for warm-up"
      ]
    },
    {
      "cell_type": "code",
      "execution_count": 65,
      "metadata": {
        "id": "g-nlK2kmUCve"
      },
      "outputs": [],
      "source": [
        "warmup_steps = math.ceil(len(train_dataloader) * num_epochs * 0.1)"
      ]
    },
    {
      "cell_type": "markdown",
      "metadata": {
        "id": "0jrrFM8r7Ly9"
      },
      "source": [
        "**Training**"
      ]
    },
    {
      "cell_type": "code",
      "execution_count": 66,
      "metadata": {
        "collapsed": true,
        "id": "TxEXdHtiUDXk",
        "colab": {
          "base_uri": "https://localhost:8080/"
        },
        "outputId": "d3ddbc40-d1f0-44a6-d65e-876c4fcc71bf"
      },
      "outputs": [
        {
          "output_type": "stream",
          "name": "stdout",
          "text": [
            "Loading pre-trained model\n"
          ]
        }
      ],
      "source": [
        "if os.path.exists(regression_model_path):\n",
        "    print(\"Loading pre-trained model\")\n",
        "    model = SentenceTransformer(regression_model_path)\n",
        "else:\n",
        "    print(\"Re-training model\")\n",
        "    model = model.fit(train_objectives=[(train_dataloader, train_loss)],\n",
        "                    optimizer_class=torch.optim.Adam,\n",
        "                    optimizer_params={'lr': learn_rate},\n",
        "                    evaluator=evaluator,\n",
        "                    epochs=num_epochs,\n",
        "                    evaluation_steps=1000,\n",
        "                    warmup_steps=warmup_steps,\n",
        "                    output_path=regression_model_path)"
      ]
    },
    {
      "cell_type": "markdown",
      "metadata": {
        "id": "foas3A_I981K"
      },
      "source": [
        "##**Evaluation on STS benchmark dataset**\n",
        "\n",
        "Evaluation of Semantic Sentence Embedding is usually done by ranking a set of sentence pairs in term of similarity, then comparing the produced ranking with that of humans. The metric used to compare two sets of rankings is the Spearmean Correlation.\n",
        "\n",
        "![IMG_1505.png](data:image/png;base64,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)"
      ]
    },
    {
      "cell_type": "code",
      "execution_count": 67,
      "metadata": {
        "id": "Qv93RESm_tyi",
        "colab": {
          "base_uri": "https://localhost:8080/"
        },
        "outputId": "90a4b39f-e998-4189-8eac-f7c71b93811d"
      },
      "outputs": [
        {
          "output_type": "stream",
          "name": "stdout",
          "text": [
            "Cosine similarity:  0.5263565694181714\n"
          ]
        }
      ],
      "source": [
        "test_eval = EmbeddingSimilarityEvaluator.from_input_examples(test_samples, batch_size=train_batch_size, name='sts-test')\n",
        "c_s = test_eval(model, output_path=regression_results_path)\n",
        "print('Cosine similarity: ', c_s)"
      ]
    },
    {
      "cell_type": "markdown",
      "metadata": {
        "id": "axyd6hqZ_a5p"
      },
      "source": [
        "Embedding sentences"
      ]
    },
    {
      "cell_type": "code",
      "execution_count": 68,
      "metadata": {
        "id": "fMDBfVfPHlOx",
        "colab": {
          "base_uri": "https://localhost:8080/"
        },
        "outputId": "ec399b43-a913-4d7b-b9f0-c6dfa9976f0c"
      },
      "outputs": [
        {
          "output_type": "stream",
          "name": "stderr",
          "text": [
            "b'Skipping line 626: expected 7 fields, saw 9\\nSkipping line 627: expected 7 fields, saw 9\\nSkipping line 628: expected 7 fields, saw 9\\nSkipping line 629: expected 7 fields, saw 9\\nSkipping line 630: expected 7 fields, saw 9\\nSkipping line 631: expected 7 fields, saw 9\\nSkipping line 632: expected 7 fields, saw 9\\nSkipping line 633: expected 7 fields, saw 9\\nSkipping line 634: expected 7 fields, saw 9\\nSkipping line 635: expected 7 fields, saw 9\\nSkipping line 636: expected 7 fields, saw 9\\nSkipping line 637: expected 7 fields, saw 9\\nSkipping line 638: expected 7 fields, saw 9\\nSkipping line 639: expected 7 fields, saw 9\\nSkipping line 640: expected 7 fields, saw 9\\nSkipping line 641: expected 7 fields, saw 9\\nSkipping line 642: expected 7 fields, saw 9\\nSkipping line 643: expected 7 fields, saw 9\\nSkipping line 644: expected 7 fields, saw 9\\nSkipping line 645: expected 7 fields, saw 9\\nSkipping line 646: expected 7 fields, saw 9\\nSkipping line 647: expected 7 fields, saw 9\\nSkipping line 648: expected 7 fields, saw 9\\nSkipping line 649: expected 7 fields, saw 9\\nSkipping line 650: expected 7 fields, saw 9\\nSkipping line 651: expected 7 fields, saw 9\\nSkipping line 652: expected 7 fields, saw 9\\nSkipping line 653: expected 7 fields, saw 9\\nSkipping line 654: expected 7 fields, saw 9\\nSkipping line 655: expected 7 fields, saw 9\\nSkipping line 656: expected 7 fields, saw 9\\nSkipping line 657: expected 7 fields, saw 9\\nSkipping line 658: expected 7 fields, saw 9\\nSkipping line 659: expected 7 fields, saw 9\\nSkipping line 660: expected 7 fields, saw 9\\nSkipping line 661: expected 7 fields, saw 9\\nSkipping line 662: expected 7 fields, saw 9\\nSkipping line 663: expected 7 fields, saw 9\\nSkipping line 664: expected 7 fields, saw 9\\nSkipping line 665: expected 7 fields, saw 9\\nSkipping line 666: expected 7 fields, saw 9\\nSkipping line 667: expected 7 fields, saw 9\\nSkipping line 668: expected 7 fields, saw 9\\nSkipping line 669: expected 7 fields, saw 9\\nSkipping line 670: expected 7 fields, saw 9\\nSkipping line 671: expected 7 fields, saw 9\\nSkipping line 672: expected 7 fields, saw 9\\nSkipping line 673: expected 7 fields, saw 9\\nSkipping line 674: expected 7 fields, saw 9\\nSkipping line 675: expected 7 fields, saw 9\\nSkipping line 676: expected 7 fields, saw 9\\nSkipping line 677: expected 7 fields, saw 9\\nSkipping line 678: expected 7 fields, saw 9\\nSkipping line 679: expected 7 fields, saw 9\\nSkipping line 680: expected 7 fields, saw 9\\nSkipping line 681: expected 7 fields, saw 9\\nSkipping line 682: expected 7 fields, saw 9\\nSkipping line 683: expected 7 fields, saw 9\\nSkipping line 684: expected 7 fields, saw 9\\nSkipping line 685: expected 7 fields, saw 9\\nSkipping line 686: expected 7 fields, saw 9\\nSkipping line 687: expected 7 fields, saw 9\\nSkipping line 688: expected 7 fields, saw 9\\nSkipping line 689: expected 7 fields, saw 9\\nSkipping line 690: expected 7 fields, saw 9\\nSkipping line 691: expected 7 fields, saw 9\\nSkipping line 692: expected 7 fields, saw 9\\nSkipping line 693: expected 7 fields, saw 9\\nSkipping line 694: expected 7 fields, saw 9\\nSkipping line 695: expected 7 fields, saw 9\\nSkipping line 696: expected 7 fields, saw 9\\nSkipping line 697: expected 7 fields, saw 9\\nSkipping line 698: expected 7 fields, saw 9\\nSkipping line 699: expected 7 fields, saw 9\\nSkipping line 700: expected 7 fields, saw 9\\nSkipping line 701: expected 7 fields, saw 9\\nSkipping line 702: expected 7 fields, saw 9\\nSkipping line 703: expected 7 fields, saw 9\\nSkipping line 704: expected 7 fields, saw 9\\nSkipping line 705: expected 7 fields, saw 9\\nSkipping line 706: expected 7 fields, saw 9\\nSkipping line 707: expected 7 fields, saw 9\\nSkipping line 708: expected 7 fields, saw 9\\nSkipping line 709: expected 7 fields, saw 9\\nSkipping line 710: expected 7 fields, saw 9\\nSkipping line 711: expected 7 fields, saw 9\\nSkipping line 712: expected 7 fields, saw 9\\nSkipping line 713: expected 7 fields, saw 9\\nSkipping line 714: expected 7 fields, saw 9\\nSkipping line 715: expected 7 fields, saw 9\\nSkipping line 716: expected 7 fields, saw 9\\nSkipping line 717: expected 7 fields, saw 9\\nSkipping line 718: expected 7 fields, saw 9\\nSkipping line 719: expected 7 fields, saw 9\\nSkipping line 720: expected 7 fields, saw 9\\nSkipping line 721: expected 7 fields, saw 9\\nSkipping line 722: expected 7 fields, saw 9\\nSkipping line 723: expected 7 fields, saw 9\\nSkipping line 724: expected 7 fields, saw 9\\nSkipping line 725: expected 7 fields, saw 9\\nSkipping line 726: expected 7 fields, saw 9\\nSkipping line 727: expected 7 fields, saw 9\\nSkipping line 728: expected 7 fields, saw 9\\nSkipping line 729: expected 7 fields, saw 9\\nSkipping line 730: expected 7 fields, saw 9\\nSkipping line 731: expected 7 fields, saw 9\\nSkipping line 732: expected 7 fields, saw 9\\nSkipping line 733: expected 7 fields, saw 9\\nSkipping line 734: expected 7 fields, saw 9\\nSkipping line 735: expected 7 fields, saw 9\\nSkipping line 736: expected 7 fields, saw 9\\nSkipping line 737: expected 7 fields, saw 9\\nSkipping line 738: expected 7 fields, saw 9\\nSkipping line 739: expected 7 fields, saw 9\\nSkipping line 740: expected 7 fields, saw 9\\nSkipping line 741: expected 7 fields, saw 9\\nSkipping line 742: expected 7 fields, saw 9\\nSkipping line 743: expected 7 fields, saw 9\\nSkipping line 744: expected 7 fields, saw 9\\nSkipping line 745: expected 7 fields, saw 9\\nSkipping line 746: expected 7 fields, saw 9\\nSkipping line 747: expected 7 fields, saw 9\\nSkipping line 748: expected 7 fields, saw 9\\nSkipping line 749: expected 7 fields, saw 9\\nSkipping line 750: expected 7 fields, saw 9\\nSkipping line 751: expected 7 fields, saw 9\\nSkipping line 752: expected 7 fields, saw 9\\nSkipping line 753: expected 7 fields, saw 9\\nSkipping line 754: expected 7 fields, saw 9\\nSkipping line 755: expected 7 fields, saw 9\\nSkipping line 756: expected 7 fields, saw 9\\nSkipping line 757: expected 7 fields, saw 9\\nSkipping line 758: expected 7 fields, saw 9\\nSkipping line 759: expected 7 fields, saw 9\\nSkipping line 760: expected 7 fields, saw 9\\nSkipping line 761: expected 7 fields, saw 9\\nSkipping line 762: expected 7 fields, saw 9\\nSkipping line 763: expected 7 fields, saw 9\\nSkipping line 764: expected 7 fields, saw 9\\nSkipping line 765: expected 7 fields, saw 9\\nSkipping line 766: expected 7 fields, saw 9\\nSkipping line 767: expected 7 fields, saw 9\\nSkipping line 768: expected 7 fields, saw 9\\nSkipping line 769: expected 7 fields, saw 9\\nSkipping line 770: expected 7 fields, saw 9\\nSkipping line 771: expected 7 fields, saw 9\\nSkipping line 772: expected 7 fields, saw 9\\nSkipping line 773: expected 7 fields, saw 9\\nSkipping line 774: expected 7 fields, saw 9\\nSkipping line 775: expected 7 fields, saw 9\\nSkipping line 776: expected 7 fields, saw 9\\nSkipping line 777: expected 7 fields, saw 9\\nSkipping line 778: expected 7 fields, saw 9\\nSkipping line 779: expected 7 fields, saw 9\\nSkipping line 780: expected 7 fields, saw 9\\nSkipping line 781: expected 7 fields, saw 9\\nSkipping line 782: expected 7 fields, saw 9\\nSkipping line 783: expected 7 fields, saw 9\\nSkipping line 784: expected 7 fields, saw 9\\nSkipping line 785: expected 7 fields, saw 9\\nSkipping line 786: expected 7 fields, saw 9\\nSkipping line 787: expected 7 fields, saw 9\\nSkipping line 788: expected 7 fields, saw 9\\nSkipping line 789: expected 7 fields, saw 9\\nSkipping line 790: expected 7 fields, saw 9\\nSkipping line 791: expected 7 fields, saw 9\\nSkipping line 792: expected 7 fields, saw 9\\nSkipping line 793: expected 7 fields, saw 9\\nSkipping line 794: expected 7 fields, saw 9\\nSkipping line 795: expected 7 fields, saw 9\\nSkipping line 796: expected 7 fields, saw 9\\nSkipping line 797: expected 7 fields, saw 9\\nSkipping line 798: expected 7 fields, saw 9\\nSkipping line 799: expected 7 fields, saw 9\\nSkipping line 800: expected 7 fields, saw 9\\nSkipping line 801: expected 7 fields, saw 9\\nSkipping line 802: expected 7 fields, saw 9\\nSkipping line 803: expected 7 fields, saw 9\\nSkipping line 804: expected 7 fields, saw 9\\nSkipping line 805: expected 7 fields, saw 9\\nSkipping line 806: expected 7 fields, saw 9\\nSkipping line 807: expected 7 fields, saw 9\\nSkipping line 808: expected 7 fields, saw 9\\nSkipping line 809: expected 7 fields, saw 9\\nSkipping line 810: expected 7 fields, saw 9\\nSkipping line 811: expected 7 fields, saw 9\\nSkipping line 812: expected 7 fields, saw 9\\nSkipping line 813: expected 7 fields, saw 9\\nSkipping line 814: expected 7 fields, saw 9\\nSkipping line 815: expected 7 fields, saw 9\\nSkipping line 816: expected 7 fields, saw 9\\nSkipping line 817: expected 7 fields, saw 9\\nSkipping line 818: expected 7 fields, saw 9\\nSkipping line 819: expected 7 fields, saw 9\\nSkipping line 820: expected 7 fields, saw 9\\nSkipping line 821: expected 7 fields, saw 9\\nSkipping line 822: expected 7 fields, saw 9\\nSkipping line 823: expected 7 fields, saw 9\\nSkipping line 824: expected 7 fields, saw 9\\nSkipping line 825: expected 7 fields, saw 9\\nSkipping line 826: expected 7 fields, saw 9\\nSkipping line 827: expected 7 fields, saw 9\\nSkipping line 828: expected 7 fields, saw 9\\nSkipping line 829: expected 7 fields, saw 9\\nSkipping line 830: expected 7 fields, saw 9\\nSkipping line 831: expected 7 fields, saw 9\\nSkipping line 832: expected 7 fields, saw 9\\nSkipping line 833: expected 7 fields, saw 9\\nSkipping line 834: expected 7 fields, saw 9\\nSkipping line 835: expected 7 fields, saw 9\\nSkipping line 836: expected 7 fields, saw 9\\nSkipping line 837: expected 7 fields, saw 9\\nSkipping line 838: expected 7 fields, saw 9\\nSkipping line 839: expected 7 fields, saw 9\\nSkipping line 840: expected 7 fields, saw 9\\nSkipping line 841: expected 7 fields, saw 9\\nSkipping line 842: expected 7 fields, saw 9\\nSkipping line 843: expected 7 fields, saw 9\\nSkipping line 844: expected 7 fields, saw 9\\nSkipping line 845: expected 7 fields, saw 9\\nSkipping line 846: expected 7 fields, saw 9\\nSkipping line 847: expected 7 fields, saw 9\\nSkipping line 848: expected 7 fields, saw 9\\nSkipping line 849: expected 7 fields, saw 9\\nSkipping line 850: expected 7 fields, saw 9\\nSkipping line 851: expected 7 fields, saw 9\\nSkipping line 852: expected 7 fields, saw 9\\nSkipping line 853: expected 7 fields, saw 9\\nSkipping line 854: expected 7 fields, saw 9\\nSkipping line 855: expected 7 fields, saw 9\\nSkipping line 856: expected 7 fields, saw 9\\nSkipping line 857: expected 7 fields, saw 9\\nSkipping line 858: expected 7 fields, saw 9\\nSkipping line 859: expected 7 fields, saw 9\\nSkipping line 860: expected 7 fields, saw 9\\nSkipping line 861: expected 7 fields, saw 9\\nSkipping line 862: expected 7 fields, saw 9\\nSkipping line 863: expected 7 fields, saw 9\\nSkipping line 864: expected 7 fields, saw 9\\nSkipping line 865: expected 7 fields, saw 9\\nSkipping line 866: expected 7 fields, saw 9\\nSkipping line 867: expected 7 fields, saw 9\\nSkipping line 868: expected 7 fields, saw 9\\nSkipping line 869: expected 7 fields, saw 9\\nSkipping line 870: expected 7 fields, saw 9\\nSkipping line 871: expected 7 fields, saw 9\\nSkipping line 872: expected 7 fields, saw 9\\nSkipping line 873: expected 7 fields, saw 9\\nSkipping line 874: expected 7 fields, saw 9\\nSkipping line 875: expected 7 fields, saw 9\\nSkipping line 876: expected 7 fields, saw 9\\nSkipping line 877: expected 7 fields, saw 9\\nSkipping line 878: expected 7 fields, saw 9\\nSkipping line 879: expected 7 fields, saw 9\\nSkipping line 1350: expected 7 fields, saw 9\\nSkipping line 1351: expected 7 fields, saw 9\\nSkipping line 1352: expected 7 fields, saw 9\\nSkipping line 1353: expected 7 fields, saw 9\\nSkipping line 1354: expected 7 fields, saw 9\\nSkipping line 1355: expected 7 fields, saw 9\\nSkipping line 1356: expected 7 fields, saw 9\\nSkipping line 1357: expected 7 fields, saw 9\\nSkipping line 1358: expected 7 fields, saw 9\\nSkipping line 1359: expected 7 fields, saw 9\\nSkipping line 1360: expected 7 fields, saw 9\\nSkipping line 1361: expected 7 fields, saw 9\\nSkipping line 1362: expected 7 fields, saw 9\\nSkipping line 1363: expected 7 fields, saw 9\\nSkipping line 1364: expected 7 fields, saw 9\\nSkipping line 1365: expected 7 fields, saw 9\\nSkipping line 1366: expected 7 fields, saw 9\\nSkipping line 1367: expected 7 fields, saw 9\\nSkipping line 1368: expected 7 fields, saw 9\\nSkipping line 1369: expected 7 fields, saw 9\\nSkipping line 1370: expected 7 fields, saw 9\\nSkipping line 1371: expected 7 fields, saw 9\\nSkipping line 1372: expected 7 fields, saw 9\\nSkipping line 1373: expected 7 fields, saw 9\\nSkipping line 1374: expected 7 fields, saw 9\\nSkipping line 1375: expected 7 fields, saw 9\\nSkipping line 1376: expected 7 fields, saw 9\\nSkipping line 1377: expected 7 fields, saw 9\\nSkipping line 1378: expected 7 fields, saw 9\\nSkipping line 1379: expected 7 fields, saw 9\\n'\n"
          ]
        }
      ],
      "source": [
        "df_test = pd.read_csv(test_path, sep='\\t', header=None, error_bad_lines=False, quoting=csv.QUOTE_NONE)\n",
        "df_test.columns = columns"
      ]
    },
    {
      "cell_type": "code",
      "execution_count": 69,
      "metadata": {
        "id": "Vy0C_4qm_tsR"
      },
      "outputs": [],
      "source": [
        "embed_1 = model.encode(df_test['sentence_1'], convert_to_numpy=True, batch_size=train_batch_size)\n",
        "embed_2 = model.encode(df_test['sentence_2'], convert_to_numpy=True, batch_size=train_batch_size)"
      ]
    },
    {
      "cell_type": "markdown",
      "metadata": {
        "id": "iv3qFiDeB3uS"
      },
      "source": [
        "Compute the cosine similarity"
      ]
    },
    {
      "cell_type": "code",
      "execution_count": 70,
      "metadata": {
        "id": "Y9oux_4b_tk_",
        "colab": {
          "base_uri": "https://localhost:8080/"
        },
        "outputId": "6c726c47-fbc8-4072-8e0b-393a46a5ab8c"
      },
      "outputs": [
        {
          "output_type": "stream",
          "name": "stdout",
          "text": [
            "Cosine similarity =  [0.27117753 0.8809062  0.58966494 ... 0.74274147 0.85241306 0.9187385 ]\n"
          ]
        }
      ],
      "source": [
        "cosine_similarity = 1 - sklearn.metrics.pairwise.paired_cosine_distances(embed_1, embed_2)\n",
        "print('Cosine similarity = ', cosine_similarity)"
      ]
    },
    {
      "cell_type": "markdown",
      "metadata": {
        "id": "U4d__O86B9DB"
      },
      "source": [
        "Spearmean correlation coefficient"
      ]
    },
    {
      "cell_type": "code",
      "execution_count": 71,
      "metadata": {
        "id": "oVziirO7-vHR",
        "colab": {
          "base_uri": "https://localhost:8080/"
        },
        "outputId": "c3aa7c2f-c685-4a68-ae59-1563ddbd56cf"
      },
      "outputs": [
        {
          "output_type": "stream",
          "name": "stdout",
          "text": [
            "Spearmean correlation coefficient =  0.534628805412517\n"
          ]
        }
      ],
      "source": [
        "spr_corr = scipy.stats.spearmanr(cosine_similarity, df_test['score'])\n",
        "print('Spearmean correlation coefficient = ', spr_corr[0])"
      ]
    },
    {
      "cell_type": "markdown",
      "source": [
        "## *2. S-BERT CLASSIFICATION OBJECTIVE*"
      ],
      "metadata": {
        "id": "b3mhfJOeeq0-"
      }
    },
    {
      "cell_type": "code",
      "source": [
        "print('Downloading snil: ')\n",
        "wget.download('https://nlp.stanford.edu/projects/snli/snli_1.0.zip', './snli_1.0.zip')\n",
        "!unzip snli_1.0.zip"
      ],
      "metadata": {
        "colab": {
          "base_uri": "https://localhost:8080/"
        },
        "id": "ISf9PZn5rGPK",
        "outputId": "8e39981a-ac4b-45ec-fca8-97f0b619a1b1"
      },
      "execution_count": 72,
      "outputs": [
        {
          "output_type": "stream",
          "name": "stdout",
          "text": [
            "Downloading snil: \n",
            "Archive:  snli_1.0.zip\n",
            "replace snli_1.0/.DS_Store? [y]es, [n]o, [A]ll, [N]one, [r]ename: A\n",
            "  inflating: snli_1.0/.DS_Store      \n",
            "  inflating: __MACOSX/snli_1.0/._.DS_Store  \n",
            " extracting: snli_1.0/Icon           \n",
            "  inflating: __MACOSX/snli_1.0/._Icon  \n",
            "  inflating: snli_1.0/README.txt     \n",
            "  inflating: __MACOSX/snli_1.0/._README.txt  \n",
            "  inflating: snli_1.0/snli_1.0_dev.jsonl  \n",
            "  inflating: snli_1.0/snli_1.0_dev.txt  \n",
            "  inflating: snli_1.0/snli_1.0_test.jsonl  \n",
            "  inflating: snli_1.0/snli_1.0_test.txt  \n",
            "  inflating: snli_1.0/snli_1.0_train.jsonl  \n",
            "  inflating: snli_1.0/snli_1.0_train.txt  \n",
            "  inflating: __MACOSX/._snli_1.0     \n"
          ]
        }
      ]
    },
    {
      "cell_type": "code",
      "source": [
        "spark = SparkSession.builder.getOrCreate()\n",
        "train_class_path = 'snli_1.0/snli_1.0_train.jsonl'\n",
        "train_class = spark.read.json(train_class_path)\n",
        "\n",
        "test_class_path = 'snli_1.0/snli_1.0_test.jsonl'\n",
        "test_class = spark.read.json(test_class_path)\n",
        "\n",
        "dev_class_path = 'snli_1.0/snli_1.0_dev.jsonl'\n",
        "dev_class = spark.read.json(dev_class_path)"
      ],
      "metadata": {
        "id": "-l227HwyfPVZ"
      },
      "execution_count": 73,
      "outputs": []
    },
    {
      "cell_type": "code",
      "source": [
        "indexer = StringIndexer(inputCol=\"gold_label\", outputCol=\"label\")\n",
        "def CreateSamples(df):\n",
        "    samples = []\n",
        "    for _, row in df.iterrows():\n",
        "        input_example = InputExample(texts=[row['sentence1'], row['sentence2']], label=row['label'])\n",
        "        samples.append(input_example)\n",
        "    return samples\n",
        "    \n",
        "def CreateSampleClass(df):\n",
        "    df = df.filter(col(\"gold_label\") != \"-\")\n",
        "    df = indexer.fit(df).transform(df)\n",
        "    df = df.withColumn(\"label\", col(\"label\").cast('int'))\n",
        "\n",
        "    df_class = df.select(\"sentence1\", \"sentence2\", \"label\").toPandas()\n",
        "\n",
        "    return CreateSamples(df_class)"
      ],
      "metadata": {
        "id": "Vq4ip8WcgKsc"
      },
      "execution_count": 74,
      "outputs": []
    },
    {
      "cell_type": "code",
      "source": [
        "train_class_samples = CreateSampleClass(train_class)\n",
        "test_class_samples = CreateSampleClass(test_class)\n",
        "dev_class_samples = CreateSampleClass(dev_class)"
      ],
      "metadata": {
        "id": "8Lowe76XjAu9"
      },
      "execution_count": 75,
      "outputs": []
    },
    {
      "cell_type": "code",
      "source": [
        "train_dataloader_cl = DataLoader(train_class_samples, shuffle=True, batch_size=train_batch_size)\n",
        "num_lables = test_class.select('annotator_labels').distinct().count()\n",
        "train_loss_cl = losses.SoftmaxLoss(model=model, sentence_embedding_dimension=model.get_sentence_embedding_dimension(), num_labels=num_lables)"
      ],
      "metadata": {
        "id": "INbLW2lVjCpd"
      },
      "execution_count": 76,
      "outputs": []
    },
    {
      "cell_type": "code",
      "source": [
        "evaluator_cl = EmbeddingSimilarityEvaluator.from_input_examples(dev_class_samples, batch_size=train_batch_size, name='snli-dev')\n",
        "warmup_steps_cl = math.ceil(len(train_dataloader) * num_epochs * 0.1)"
      ],
      "metadata": {
        "id": "KsoBl_UtsuPH"
      },
      "execution_count": 77,
      "outputs": []
    },
    {
      "cell_type": "code",
      "source": [
        "if os.path.exists(classification_model_path):\n",
        "    print(\"Loading pre-trained model\")\n",
        "    model = SentenceTransformer(classification_model_path)\n",
        "else:\n",
        "    print(\"Retraining model\")\n",
        "    model.fit(train_objectives=[(train_dataloader_cl, train_loss_cl)],\n",
        "             evaluator=evaluator_cl,\n",
        "             epochs=num_epochs,\n",
        "             evaluation_steps=1000,\n",
        "             warmup_steps=warmup_steps_cl,\n",
        "             output_path=classification_model_path)"
      ],
      "metadata": {
        "id": "9SjRjDzwtCyH",
        "colab": {
          "base_uri": "https://localhost:8080/"
        },
        "outputId": "aa347d88-095d-40bd-c8ef-c3b2f45cbaa7"
      },
      "execution_count": 78,
      "outputs": [
        {
          "output_type": "stream",
          "name": "stdout",
          "text": [
            "Loading pre-trained model\n"
          ]
        }
      ]
    },
    {
      "cell_type": "code",
      "source": [
        "evaluation_class_location = \"./classification\"\n",
        "\n",
        "if not os.path.exists(evaluation_class_location):\n",
        "    os.makedirs(evaluation_class_location)\n",
        "\n",
        "test_eval_cl = EmbeddingSimilarityEvaluator.from_input_examples(test_class_samples, batch_size=train_batch_size, name='snli-test')\n",
        "c_s_cl = test_eval_cl(model, output_path=evaluation_class_location)\n",
        "print('Cosine similarity with the sentence_transformers library = ', c_s_cl)"
      ],
      "metadata": {
        "id": "w89Q02Wexhb5",
        "colab": {
          "base_uri": "https://localhost:8080/"
        },
        "outputId": "33db5431-b113-461b-e9fd-9d33116221b5"
      },
      "execution_count": 79,
      "outputs": [
        {
          "output_type": "stream",
          "name": "stdout",
          "text": [
            "Cosine similarity with the sentence_transformers library =  -0.10038784683009352\n"
          ]
        }
      ]
    },
    {
      "cell_type": "code",
      "source": [
        "c_s_sts = test_eval(model, output_path=evaluation_class_location)\n",
        "print('Cosine similarity with the sentence_transformers library = ', c_s_sts)"
      ],
      "metadata": {
        "id": "d4VLPRjGx4dK",
        "colab": {
          "base_uri": "https://localhost:8080/"
        },
        "outputId": "9adf72da-decf-4b97-b8f6-f845f29dac89"
      },
      "execution_count": 80,
      "outputs": [
        {
          "output_type": "stream",
          "name": "stdout",
          "text": [
            "Cosine similarity with the sentence_transformers library =  0.7053019304518711\n"
          ]
        }
      ]
    },
    {
      "cell_type": "code",
      "source": [
        "embed_1_snli = model.encode(df_test['sentence_1'], convert_to_numpy=True, batch_size=train_batch_size)\n",
        "embed_2_snli = model.encode(df_test['sentence_2'], convert_to_numpy=True, batch_size=train_batch_size)\n",
        "\n",
        "embed_1 = model.encode(df_test['sentence_1'], convert_to_numpy=True, batch_size=train_batch_size)\n",
        "embed_2 = model.encode(df_test['sentence_2'], convert_to_numpy=True, batch_size=train_batch_size)"
      ],
      "metadata": {
        "id": "btaNGbXXyARY"
      },
      "execution_count": 81,
      "outputs": []
    },
    {
      "cell_type": "code",
      "source": [
        "cos_sim_cl = 1 - sklearn.metrics.pairwise.paired_cosine_distances(embed_1_snli, embed_2_snli)\n",
        "print('SNLI-test: cosine similarity = ', cos_sim_cl)\n",
        "\n",
        "cos_sim_sts = 1 - sklearn.metrics.pairwise.paired_cosine_distances(embed_1, embed_2)\n",
        "print('STS benchmark: cosine similarity = ', cos_sim_sts)"
      ],
      "metadata": {
        "id": "YS_S9IQYyGWD",
        "colab": {
          "base_uri": "https://localhost:8080/"
        },
        "outputId": "819f8225-24c6-4775-d0fe-3e40c845a5b6"
      },
      "execution_count": 82,
      "outputs": [
        {
          "output_type": "stream",
          "name": "stdout",
          "text": [
            "SNLI-test: cosine similarity =  [0.9438066  0.98536867 0.9574722  ... 0.92456174 0.97644114 0.9765778 ]\n",
            "STS benchmark: cosine similarity =  [0.9438066  0.98536867 0.9574722  ... 0.92456174 0.97644114 0.9765778 ]\n"
          ]
        }
      ]
    },
    {
      "cell_type": "code",
      "source": [
        "spr_corr_cl = scipy.stats.spearmanr(cos_sim_cl, df_test['score'])\n",
        "print('SNLI-test: Spearmean correlation coefficient = ', spr_corr_cl[0])\n",
        "\n",
        "spr_corr_sts = scipy.stats.spearmanr(cos_sim_sts, df_test['score'])\n",
        "print('STS benchmark: Spearmean correlation coefficient = ', spr_corr_sts[0])"
      ],
      "metadata": {
        "id": "VNxyvZOFyKZL",
        "colab": {
          "base_uri": "https://localhost:8080/"
        },
        "outputId": "da36f056-95cc-4df2-ef47-786d8f27be4c"
      },
      "execution_count": 83,
      "outputs": [
        {
          "output_type": "stream",
          "name": "stdout",
          "text": [
            "SNLI-test: Spearmean correlation coefficient =  0.7466708047140973\n",
            "STS benchmark: Spearmean correlation coefficient =  0.7466708047140973\n"
          ]
        }
      ]
    },
    {
      "cell_type": "markdown",
      "source": [
        "##**3. Semantic Search**\n",
        "\n",
        "Finally, we will create something useful of our sentence embedding model. Recall that an embedding is only a high-dimensional vector. This makes searching for nearby embedding, and thus semantically similar sentences, very effective. In particular, one can take a text corpus and pre-compute sentence embedding for all sentences. So that when the user enters a search string, we only need to compute the sentence embedding of the search query.\n",
        "\n",
        "We use a subset of 10.000 headdlines from the following dataset: \n",
        "\n",
        "[A Million News Headlines](https://www.kaggle.com/therohk/million-headlines)"
      ],
      "metadata": {
        "id": "RfzMn0ETuf9J"
      }
    },
    {
      "cell_type": "code",
      "source": [
        "model = SentenceTransformer('bert-base-nli-mean-tokens')"
      ],
      "metadata": {
        "id": "bS9ymP7yubBq"
      },
      "execution_count": 84,
      "outputs": []
    },
    {
      "cell_type": "code",
      "source": [
        "# Import the data, remove the first row ie the header and dates\n",
        "df = pd.read_csv(news_path, sep =\",\", error_bad_lines=False, names = [\"Date\", \"Sentence\"], nrows=10000)\n",
        "df = df.iloc[1: , :]\n",
        "df.drop(['Date'], axis=1, inplace = True)\n",
        "df.head(10)"
      ],
      "metadata": {
        "id": "VEKGC1zquxDt",
        "colab": {
          "base_uri": "https://localhost:8080/",
          "height": 386
        },
        "outputId": "e2d53b76-bd73-41d2-9d56-2d4aad6ae1ae"
      },
      "execution_count": 85,
      "outputs": [
        {
          "output_type": "execute_result",
          "data": {
            "text/html": [
              "\n",
              "  <div id=\"df-ef29997c-5158-4f84-aa53-853ea8762826\">\n",
              "    <div class=\"colab-df-container\">\n",
              "      <div>\n",
              "<style scoped>\n",
              "    .dataframe tbody tr th:only-of-type {\n",
              "        vertical-align: middle;\n",
              "    }\n",
              "\n",
              "    .dataframe tbody tr th {\n",
              "        vertical-align: top;\n",
              "    }\n",
              "\n",
              "    .dataframe thead th {\n",
              "        text-align: right;\n",
              "    }\n",
              "</style>\n",
              "<table border=\"1\" class=\"dataframe\">\n",
              "  <thead>\n",
              "    <tr style=\"text-align: right;\">\n",
              "      <th></th>\n",
              "      <th>Sentence</th>\n",
              "    </tr>\n",
              "  </thead>\n",
              "  <tbody>\n",
              "    <tr>\n",
              "      <th>1</th>\n",
              "      <td>aba decides against community broadcasting lic...</td>\n",
              "    </tr>\n",
              "    <tr>\n",
              "      <th>2</th>\n",
              "      <td>act fire witnesses must be aware of defamation</td>\n",
              "    </tr>\n",
              "    <tr>\n",
              "      <th>3</th>\n",
              "      <td>a g calls for infrastructure protection summit</td>\n",
              "    </tr>\n",
              "    <tr>\n",
              "      <th>4</th>\n",
              "      <td>air nz staff in aust strike for pay rise</td>\n",
              "    </tr>\n",
              "    <tr>\n",
              "      <th>5</th>\n",
              "      <td>air nz strike to affect australian travellers</td>\n",
              "    </tr>\n",
              "    <tr>\n",
              "      <th>6</th>\n",
              "      <td>ambitious olsson wins triple jump</td>\n",
              "    </tr>\n",
              "    <tr>\n",
              "      <th>7</th>\n",
              "      <td>antic delighted with record breaking barca</td>\n",
              "    </tr>\n",
              "    <tr>\n",
              "      <th>8</th>\n",
              "      <td>aussie qualifier stosur wastes four memphis match</td>\n",
              "    </tr>\n",
              "    <tr>\n",
              "      <th>9</th>\n",
              "      <td>aust addresses un security council over iraq</td>\n",
              "    </tr>\n",
              "    <tr>\n",
              "      <th>10</th>\n",
              "      <td>australia is locked into war timetable opp</td>\n",
              "    </tr>\n",
              "  </tbody>\n",
              "</table>\n",
              "</div>\n",
              "      <button class=\"colab-df-convert\" onclick=\"convertToInteractive('df-ef29997c-5158-4f84-aa53-853ea8762826')\"\n",
              "              title=\"Convert this dataframe to an interactive table.\"\n",
              "              style=\"display:none;\">\n",
              "        \n",
              "  <svg xmlns=\"http://www.w3.org/2000/svg\" height=\"24px\"viewBox=\"0 0 24 24\"\n",
              "       width=\"24px\">\n",
              "    <path d=\"M0 0h24v24H0V0z\" fill=\"none\"/>\n",
              "    <path d=\"M18.56 5.44l.94 2.06.94-2.06 2.06-.94-2.06-.94-.94-2.06-.94 2.06-2.06.94zm-11 1L8.5 8.5l.94-2.06 2.06-.94-2.06-.94L8.5 2.5l-.94 2.06-2.06.94zm10 10l.94 2.06.94-2.06 2.06-.94-2.06-.94-.94-2.06-.94 2.06-2.06.94z\"/><path d=\"M17.41 7.96l-1.37-1.37c-.4-.4-.92-.59-1.43-.59-.52 0-1.04.2-1.43.59L10.3 9.45l-7.72 7.72c-.78.78-.78 2.05 0 2.83L4 21.41c.39.39.9.59 1.41.59.51 0 1.02-.2 1.41-.59l7.78-7.78 2.81-2.81c.8-.78.8-2.07 0-2.86zM5.41 20L4 18.59l7.72-7.72 1.47 1.35L5.41 20z\"/>\n",
              "  </svg>\n",
              "      </button>\n",
              "      \n",
              "  <style>\n",
              "    .colab-df-container {\n",
              "      display:flex;\n",
              "      flex-wrap:wrap;\n",
              "      gap: 12px;\n",
              "    }\n",
              "\n",
              "    .colab-df-convert {\n",
              "      background-color: #E8F0FE;\n",
              "      border: none;\n",
              "      border-radius: 50%;\n",
              "      cursor: pointer;\n",
              "      display: none;\n",
              "      fill: #1967D2;\n",
              "      height: 32px;\n",
              "      padding: 0 0 0 0;\n",
              "      width: 32px;\n",
              "    }\n",
              "\n",
              "    .colab-df-convert:hover {\n",
              "      background-color: #E2EBFA;\n",
              "      box-shadow: 0px 1px 2px rgba(60, 64, 67, 0.3), 0px 1px 3px 1px rgba(60, 64, 67, 0.15);\n",
              "      fill: #174EA6;\n",
              "    }\n",
              "\n",
              "    [theme=dark] .colab-df-convert {\n",
              "      background-color: #3B4455;\n",
              "      fill: #D2E3FC;\n",
              "    }\n",
              "\n",
              "    [theme=dark] .colab-df-convert:hover {\n",
              "      background-color: #434B5C;\n",
              "      box-shadow: 0px 1px 3px 1px rgba(0, 0, 0, 0.15);\n",
              "      filter: drop-shadow(0px 1px 2px rgba(0, 0, 0, 0.3));\n",
              "      fill: #FFFFFF;\n",
              "    }\n",
              "  </style>\n",
              "\n",
              "      <script>\n",
              "        const buttonEl =\n",
              "          document.querySelector('#df-ef29997c-5158-4f84-aa53-853ea8762826 button.colab-df-convert');\n",
              "        buttonEl.style.display =\n",
              "          google.colab.kernel.accessAllowed ? 'block' : 'none';\n",
              "\n",
              "        async function convertToInteractive(key) {\n",
              "          const element = document.querySelector('#df-ef29997c-5158-4f84-aa53-853ea8762826');\n",
              "          const dataTable =\n",
              "            await google.colab.kernel.invokeFunction('convertToInteractive',\n",
              "                                                     [key], {});\n",
              "          if (!dataTable) return;\n",
              "\n",
              "          const docLinkHtml = 'Like what you see? Visit the ' +\n",
              "            '<a target=\"_blank\" href=https://colab.research.google.com/notebooks/data_table.ipynb>data table notebook</a>'\n",
              "            + ' to learn more about interactive tables.';\n",
              "          element.innerHTML = '';\n",
              "          dataTable['output_type'] = 'display_data';\n",
              "          await google.colab.output.renderOutput(dataTable, element);\n",
              "          const docLink = document.createElement('div');\n",
              "          docLink.innerHTML = docLinkHtml;\n",
              "          element.appendChild(docLink);\n",
              "        }\n",
              "      </script>\n",
              "    </div>\n",
              "  </div>\n",
              "  "
            ],
            "text/plain": [
              "                                             Sentence\n",
              "1   aba decides against community broadcasting lic...\n",
              "2      act fire witnesses must be aware of defamation\n",
              "3      a g calls for infrastructure protection summit\n",
              "4            air nz staff in aust strike for pay rise\n",
              "5       air nz strike to affect australian travellers\n",
              "6                   ambitious olsson wins triple jump\n",
              "7          antic delighted with record breaking barca\n",
              "8   aussie qualifier stosur wastes four memphis match\n",
              "9        aust addresses un security council over iraq\n",
              "10         australia is locked into war timetable opp"
            ]
          },
          "metadata": {},
          "execution_count": 85
        }
      ]
    },
    {
      "cell_type": "code",
      "source": [
        "# Compute the cosine similarity between the search sentences and the sentences from data, return the indexes of the k most similar sentences\n",
        "\n",
        "values = list() #For saving the highest cosine similarity \n",
        "\n",
        "# Compute the cosine similarity between the search sentences and the sentences from data, return the indexes of the k most similar sentences\n",
        "def search(search_sentences_embedding, sentence_embeddings):\n",
        "    similarity_matrix = cosine_similarity(search_sentences_embedding, sentence_embeddings[:])\n",
        "    similarities = similarity_matrix[0]\n",
        "    indexes = similarities.argsort()[-k:][::1]\n",
        "\n",
        "    for idx in indexes:\n",
        "      values.append(similarity_matrix[0][idx])\n",
        "\n",
        "    return indexes"
      ],
      "metadata": {
        "id": "PKA1BeYIvdwW"
      },
      "execution_count": 86,
      "outputs": []
    },
    {
      "cell_type": "code",
      "source": [
        "sentences = df.iloc[:, 0] # Get the sentences from the data\n",
        "\n",
        "sentence_embeddings= model.encode(sentences.values) # do embedding for the sentences from the data"
      ],
      "metadata": {
        "id": "tDEzKU4RvjsY"
      },
      "execution_count": 93,
      "outputs": []
    },
    {
      "cell_type": "code",
      "source": [
        "search_sentence_embedding = model.encode([\"kallis out of bangladesh\"]) #Embedd the search sentence\n",
        "\n",
        "k = 10 # number of similar sentences to include in the result\n",
        "similar_sentences = search(search_sentence_embedding, sentence_embeddings) #get indexes for the most similar sentences"
      ],
      "metadata": {
        "id": "RrmfDk5dvxsI"
      },
      "execution_count": 94,
      "outputs": []
    },
    {
      "cell_type": "code",
      "source": [
        "# Print out the K most similar sentences\n",
        "i=0\n",
        "for idx in similar_sentences:\n",
        "    print(sentences[idx], values[i])\n",
        "    i = i+1"
      ],
      "metadata": {
        "id": "AwmdaqRGv7L8",
        "colab": {
          "base_uri": "https://localhost:8080/"
        },
        "outputId": "ee03f212-71be-46c4-a9bf-2914e12e25d1"
      },
      "execution_count": 95,
      "outputs": [
        {
          "output_type": "stream",
          "name": "stdout",
          "text": [
            "bhp steel records 242m half year profit 0.56791115\n",
            "witnesses identify nightclub drive by shooters 0.5750314\n",
            "dengue outbreak hits more suburbs 0.57561827\n",
            "brogden urges voters to throw labor out 0.5775241\n",
            "nt health minister calls for meeting with cwealth 0.5862519\n",
            "pakistan to push icc on india boycott 0.59333616\n",
            "powell starts asian tour for north korea talks 0.59625375\n",
            "hollywood refusing to promote war 0.59745204\n",
            "bali suspect yells support for iraq 0.73081243\n",
            "japanese whaling fleet returns home with catch 0.8585953\n"
          ]
        }
      ]
    },
    {
      "cell_type": "markdown",
      "source": [
        "##**End**"
      ],
      "metadata": {
        "id": "5JYcvHWUXdF_"
      }
    }
  ],
  "metadata": {
    "accelerator": "GPU",
    "colab": {
      "collapsed_sections": [],
      "name": "merged_lab2_id2223.ipynb",
      "provenance": [],
      "include_colab_link": true
    },
    "kernelspec": {
      "display_name": "Python 3",
      "name": "python3"
    },
    "language_info": {
      "name": "python"
    }
  },
  "nbformat": 4,
  "nbformat_minor": 0
}