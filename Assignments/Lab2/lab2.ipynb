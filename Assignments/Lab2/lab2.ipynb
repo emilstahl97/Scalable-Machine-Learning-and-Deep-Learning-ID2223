{
  "nbformat": 4,
  "nbformat_minor": 5,
  "metadata": {
    "orig_nbformat": 4,
    "language_info": {
      "name": "python",
      "version": "3.7.8",
      "mimetype": "text/x-python",
      "codemirror_mode": {
        "name": "ipython",
        "version": 3
      },
      "pygments_lexer": "ipython3",
      "nbconvert_exporter": "python",
      "file_extension": ".py"
    },
    "kernelspec": {
      "name": "python3",
      "display_name": "Python 3",
      "language": "python"
    },
    "colab": {
      "name": "lab2.ipynb",
      "provenance": []
    }
  },
  "cells": [
    {
      "cell_type": "code",
      "metadata": {
        "id": "zaKRw_y60AN8"
      },
      "source": [
        "!pip install tensorflow\n",
        "!pip install tensorflow-text"
      ],
      "id": "zaKRw_y60AN8",
      "execution_count": null,
      "outputs": []
    },
    {
      "cell_type": "code",
      "metadata": {
        "trusted": true,
        "id": "eca01b13-a070-479d-aa33-75a05bfe0baa"
      },
      "source": [
        "# Import the necessary libraries\n",
        "import tensorflow as tf\n",
        "import tensorflow_hub as hub\n",
        "import tensorflow_text as text\n",
        "from tensorflow.keras import layers\n",
        "from tensorflow.keras.models import Model\n",
        "import pandas as pd\n",
        "import numpy as np\n",
        "from sklearn.model_selection import train_test_split\n"
      ],
      "id": "eca01b13-a070-479d-aa33-75a05bfe0baa",
      "execution_count": 19,
      "outputs": []
    },
    {
      "cell_type": "code",
      "metadata": {
        "id": "dd973785-8d43-4265-8b66-ff9ab477d07f"
      },
      "source": [
        "# Get the training data\n",
        "df = pd.read_csv(\"sts-train.csv\", sep =\"\\t\", error_bad_lines=False, names = [\"Genre\", \"File\", \"Years\", \"Train\", \"Similarity\", \"Sentence 1\", \"Sentence 2\"])\n",
        "\n",
        "df.head()"
      ],
      "id": "dd973785-8d43-4265-8b66-ff9ab477d07f",
      "execution_count": null,
      "outputs": []
    },
    {
      "cell_type": "code",
      "metadata": {
        "id": "wUGKkYjEcIXJ"
      },
      "source": [
        "df.drop(['Genre', \"File\", \"Years\", \"Train\"], axis=1)\n",
        "df_features = df.copy()\n",
        "df_label = df.copy()\n",
        "df_features.drop(['Similarity'], axis=1)\n",
        "df_label.drop(['Sentence 1', \"Sentence 2\"], axis=1)\n",
        "\n",
        "\n",
        "train, test, train_labels, test_labels = train_test_split(df_features, df_label, test_size=0.33)\n",
        "\n",
        "train.head()\n"
      ],
      "id": "wUGKkYjEcIXJ",
      "execution_count": null,
      "outputs": []
    },
    {
      "cell_type": "code",
      "metadata": {
        "id": "30af7fec-6c91-44f7-b5a4-a2be2c2944e7"
      },
      "source": [
        "# Use BERT for sentence embedding, a 1x768 vector which can be used as input for a Neural network\n",
        "\n",
        "bert_preprocess = hub.KerasLayer(\"https://tfhub.dev/tensorflow/bert_en_uncased_preprocess/3\")\n",
        "bert_encoder = hub.KerasLayer(\"https://tfhub.dev/tensorflow/bert_en_uncased_L-12_H-768_A-12/4\")\n",
        "\n",
        "# Function which returns the embedded vectors for a the sentence pair\n",
        "def get_sentence_embeding(sentences):\n",
        "    preprocessed_text = bert_preprocess(sentences)\n",
        "    return bert_encoder(preprocessed_text)['pooled_output']\n",
        "\n",
        "# Test\n",
        "get_sentence_embeding([\"A plane is taking off\", \"An air plane is taking off\"])\n"
      ],
      "id": "30af7fec-6c91-44f7-b5a4-a2be2c2944e7",
      "execution_count": null,
      "outputs": []
    },
    {
      "cell_type": "code",
      "metadata": {
        "id": "97012ef2-f69a-4d55-92c9-46c3b01516d3"
      },
      "source": [
        "# Bert layers\n",
        "text_input = tf.keras.layers.Input(shape=(), dtype=tf.string, name='text')\n",
        "preprocessed_text = bert_preprocess(text_input)\n",
        "outputs = bert_encoder(preprocessed_text)\n",
        "\n",
        "# Neural network layers\n",
        "x = tf.keras.layers.Dense(1,activation='sigmoid')(outputs['pooled_output'])\n",
        "x = tf.keras.layers.Dense(1, activation='sigmoid', name=\"output\")(x)\n",
        "\n",
        "# Use inputs and outputs to construct a final model\n",
        "model = tf.keras.Model(inputs=[text_input], outputs = [x])\n",
        "model.summary()"
      ],
      "id": "97012ef2-f69a-4d55-92c9-46c3b01516d3",
      "execution_count": null,
      "outputs": []
    },
    {
      "cell_type": "code",
      "metadata": {
        "id": "c460dc7d-2a9c-44b6-b6f6-19a87187a605"
      },
      "source": [
        ""
      ],
      "id": "c460dc7d-2a9c-44b6-b6f6-19a87187a605",
      "execution_count": null,
      "outputs": []
    },
    {
      "cell_type": "code",
      "metadata": {
        "id": "a863e771-4ad3-4e6b-b567-d2fd30fd459e"
      },
      "source": [
        ""
      ],
      "id": "a863e771-4ad3-4e6b-b567-d2fd30fd459e",
      "execution_count": null,
      "outputs": []
    }
  ]
}