{
  "cells": [
    {
      "cell_type": "markdown",
      "metadata": {
        "id": "view-in-github",
        "colab_type": "text"
      },
      "source": [
        "<a href=\"https://colab.research.google.com/github/emilstahl97/Scalable-Machine-Learning-and-Deep-Learning-ID2223/blob/notebooks/lab2_id2223.ipynb\" target=\"_parent\"><img src=\"https://colab.research.google.com/assets/colab-badge.svg\" alt=\"Open In Colab\"/></a>"
      ]
    },
    {
      "cell_type": "code",
      "execution_count": 1,
      "metadata": {
        "colab": {
          "base_uri": "https://localhost:8080/"
        },
        "id": "yugvCJ05CMg9",
        "outputId": "98bc6e67-0626-4533-9159-eab7cfaea58b"
      },
      "outputs": [
        {
          "output_type": "stream",
          "name": "stdout",
          "text": [
            "Collecting sentence_transformers\n",
            "  Downloading sentence-transformers-2.1.0.tar.gz (78 kB)\n",
            "\u001b[K     |████████████████████████████████| 78 kB 2.3 MB/s \n",
            "\u001b[?25hCollecting transformers<5.0.0,>=4.6.0\n",
            "  Downloading transformers-4.13.0-py3-none-any.whl (3.3 MB)\n",
            "\u001b[K     |████████████████████████████████| 3.3 MB 11.3 MB/s \n",
            "\u001b[?25hCollecting tokenizers>=0.10.3\n",
            "  Downloading tokenizers-0.10.3-cp37-cp37m-manylinux_2_5_x86_64.manylinux1_x86_64.manylinux_2_12_x86_64.manylinux2010_x86_64.whl (3.3 MB)\n",
            "\u001b[K     |████████████████████████████████| 3.3 MB 36.5 MB/s \n",
            "\u001b[?25hRequirement already satisfied: tqdm in /usr/local/lib/python3.7/dist-packages (from sentence_transformers) (4.62.3)\n",
            "Requirement already satisfied: torch>=1.6.0 in /usr/local/lib/python3.7/dist-packages (from sentence_transformers) (1.10.0+cu111)\n",
            "Requirement already satisfied: torchvision in /usr/local/lib/python3.7/dist-packages (from sentence_transformers) (0.11.1+cu111)\n",
            "Requirement already satisfied: numpy in /usr/local/lib/python3.7/dist-packages (from sentence_transformers) (1.19.5)\n",
            "Requirement already satisfied: scikit-learn in /usr/local/lib/python3.7/dist-packages (from sentence_transformers) (1.0.1)\n",
            "Requirement already satisfied: scipy in /usr/local/lib/python3.7/dist-packages (from sentence_transformers) (1.4.1)\n",
            "Requirement already satisfied: nltk in /usr/local/lib/python3.7/dist-packages (from sentence_transformers) (3.2.5)\n",
            "Collecting sentencepiece\n",
            "  Downloading sentencepiece-0.1.96-cp37-cp37m-manylinux_2_17_x86_64.manylinux2014_x86_64.whl (1.2 MB)\n",
            "\u001b[K     |████████████████████████████████| 1.2 MB 43.9 MB/s \n",
            "\u001b[?25hCollecting huggingface-hub\n",
            "  Downloading huggingface_hub-0.2.1-py3-none-any.whl (61 kB)\n",
            "\u001b[K     |████████████████████████████████| 61 kB 515 kB/s \n",
            "\u001b[?25hRequirement already satisfied: typing-extensions in /usr/local/lib/python3.7/dist-packages (from torch>=1.6.0->sentence_transformers) (3.10.0.2)\n",
            "Requirement already satisfied: filelock in /usr/local/lib/python3.7/dist-packages (from transformers<5.0.0,>=4.6.0->sentence_transformers) (3.4.0)\n",
            "Requirement already satisfied: packaging>=20.0 in /usr/local/lib/python3.7/dist-packages (from transformers<5.0.0,>=4.6.0->sentence_transformers) (21.3)\n",
            "Requirement already satisfied: regex!=2019.12.17 in /usr/local/lib/python3.7/dist-packages (from transformers<5.0.0,>=4.6.0->sentence_transformers) (2019.12.20)\n",
            "Requirement already satisfied: importlib-metadata in /usr/local/lib/python3.7/dist-packages (from transformers<5.0.0,>=4.6.0->sentence_transformers) (4.8.2)\n",
            "Collecting pyyaml>=5.1\n",
            "  Downloading PyYAML-6.0-cp37-cp37m-manylinux_2_5_x86_64.manylinux1_x86_64.manylinux_2_12_x86_64.manylinux2010_x86_64.whl (596 kB)\n",
            "\u001b[K     |████████████████████████████████| 596 kB 42.6 MB/s \n",
            "\u001b[?25hCollecting sacremoses\n",
            "  Downloading sacremoses-0.0.46-py3-none-any.whl (895 kB)\n",
            "\u001b[K     |████████████████████████████████| 895 kB 48.0 MB/s \n",
            "\u001b[?25hRequirement already satisfied: requests in /usr/local/lib/python3.7/dist-packages (from transformers<5.0.0,>=4.6.0->sentence_transformers) (2.23.0)\n",
            "Requirement already satisfied: pyparsing!=3.0.5,>=2.0.2 in /usr/local/lib/python3.7/dist-packages (from packaging>=20.0->transformers<5.0.0,>=4.6.0->sentence_transformers) (3.0.6)\n",
            "Requirement already satisfied: zipp>=0.5 in /usr/local/lib/python3.7/dist-packages (from importlib-metadata->transformers<5.0.0,>=4.6.0->sentence_transformers) (3.6.0)\n",
            "Requirement already satisfied: six in /usr/local/lib/python3.7/dist-packages (from nltk->sentence_transformers) (1.15.0)\n",
            "Requirement already satisfied: idna<3,>=2.5 in /usr/local/lib/python3.7/dist-packages (from requests->transformers<5.0.0,>=4.6.0->sentence_transformers) (2.10)\n",
            "Requirement already satisfied: certifi>=2017.4.17 in /usr/local/lib/python3.7/dist-packages (from requests->transformers<5.0.0,>=4.6.0->sentence_transformers) (2021.10.8)\n",
            "Requirement already satisfied: urllib3!=1.25.0,!=1.25.1,<1.26,>=1.21.1 in /usr/local/lib/python3.7/dist-packages (from requests->transformers<5.0.0,>=4.6.0->sentence_transformers) (1.24.3)\n",
            "Requirement already satisfied: chardet<4,>=3.0.2 in /usr/local/lib/python3.7/dist-packages (from requests->transformers<5.0.0,>=4.6.0->sentence_transformers) (3.0.4)\n",
            "Requirement already satisfied: joblib in /usr/local/lib/python3.7/dist-packages (from sacremoses->transformers<5.0.0,>=4.6.0->sentence_transformers) (1.1.0)\n",
            "Requirement already satisfied: click in /usr/local/lib/python3.7/dist-packages (from sacremoses->transformers<5.0.0,>=4.6.0->sentence_transformers) (7.1.2)\n",
            "Requirement already satisfied: threadpoolctl>=2.0.0 in /usr/local/lib/python3.7/dist-packages (from scikit-learn->sentence_transformers) (3.0.0)\n",
            "Requirement already satisfied: pillow!=8.3.0,>=5.3.0 in /usr/local/lib/python3.7/dist-packages (from torchvision->sentence_transformers) (7.1.2)\n",
            "Building wheels for collected packages: sentence-transformers\n",
            "  Building wheel for sentence-transformers (setup.py) ... \u001b[?25l\u001b[?25hdone\n",
            "  Created wheel for sentence-transformers: filename=sentence_transformers-2.1.0-py3-none-any.whl size=121000 sha256=79a77c945aa6bdaa95ad1f4037d7fd7ba1879f5f4f9c2cb64bc09fa191e232e7\n",
            "  Stored in directory: /root/.cache/pip/wheels/90/f0/bb/ed1add84da70092ea526466eadc2bfb197c4bcb8d4fa5f7bad\n",
            "Successfully built sentence-transformers\n",
            "Installing collected packages: pyyaml, tokenizers, sacremoses, huggingface-hub, transformers, sentencepiece, sentence-transformers\n",
            "  Attempting uninstall: pyyaml\n",
            "    Found existing installation: PyYAML 3.13\n",
            "    Uninstalling PyYAML-3.13:\n",
            "      Successfully uninstalled PyYAML-3.13\n",
            "Successfully installed huggingface-hub-0.2.1 pyyaml-6.0 sacremoses-0.0.46 sentence-transformers-2.1.0 sentencepiece-0.1.96 tokenizers-0.10.3 transformers-4.13.0\n",
            "Requirement already satisfied: transformers in /usr/local/lib/python3.7/dist-packages (4.13.0)\n",
            "Requirement already satisfied: filelock in /usr/local/lib/python3.7/dist-packages (from transformers) (3.4.0)\n",
            "Requirement already satisfied: regex!=2019.12.17 in /usr/local/lib/python3.7/dist-packages (from transformers) (2019.12.20)\n",
            "Requirement already satisfied: packaging>=20.0 in /usr/local/lib/python3.7/dist-packages (from transformers) (21.3)\n",
            "Requirement already satisfied: sacremoses in /usr/local/lib/python3.7/dist-packages (from transformers) (0.0.46)\n",
            "Requirement already satisfied: huggingface-hub<1.0,>=0.1.0 in /usr/local/lib/python3.7/dist-packages (from transformers) (0.2.1)\n",
            "Requirement already satisfied: requests in /usr/local/lib/python3.7/dist-packages (from transformers) (2.23.0)\n",
            "Requirement already satisfied: importlib-metadata in /usr/local/lib/python3.7/dist-packages (from transformers) (4.8.2)\n",
            "Requirement already satisfied: numpy>=1.17 in /usr/local/lib/python3.7/dist-packages (from transformers) (1.19.5)\n",
            "Requirement already satisfied: tokenizers<0.11,>=0.10.1 in /usr/local/lib/python3.7/dist-packages (from transformers) (0.10.3)\n",
            "Requirement already satisfied: tqdm>=4.27 in /usr/local/lib/python3.7/dist-packages (from transformers) (4.62.3)\n",
            "Requirement already satisfied: pyyaml>=5.1 in /usr/local/lib/python3.7/dist-packages (from transformers) (6.0)\n",
            "Requirement already satisfied: typing-extensions>=3.7.4.3 in /usr/local/lib/python3.7/dist-packages (from huggingface-hub<1.0,>=0.1.0->transformers) (3.10.0.2)\n",
            "Requirement already satisfied: pyparsing!=3.0.5,>=2.0.2 in /usr/local/lib/python3.7/dist-packages (from packaging>=20.0->transformers) (3.0.6)\n",
            "Requirement already satisfied: zipp>=0.5 in /usr/local/lib/python3.7/dist-packages (from importlib-metadata->transformers) (3.6.0)\n",
            "Requirement already satisfied: certifi>=2017.4.17 in /usr/local/lib/python3.7/dist-packages (from requests->transformers) (2021.10.8)\n",
            "Requirement already satisfied: idna<3,>=2.5 in /usr/local/lib/python3.7/dist-packages (from requests->transformers) (2.10)\n",
            "Requirement already satisfied: urllib3!=1.25.0,!=1.25.1,<1.26,>=1.21.1 in /usr/local/lib/python3.7/dist-packages (from requests->transformers) (1.24.3)\n",
            "Requirement already satisfied: chardet<4,>=3.0.2 in /usr/local/lib/python3.7/dist-packages (from requests->transformers) (3.0.4)\n",
            "Requirement already satisfied: six in /usr/local/lib/python3.7/dist-packages (from sacremoses->transformers) (1.15.0)\n",
            "Requirement already satisfied: click in /usr/local/lib/python3.7/dist-packages (from sacremoses->transformers) (7.1.2)\n",
            "Requirement already satisfied: joblib in /usr/local/lib/python3.7/dist-packages (from sacremoses->transformers) (1.1.0)\n",
            "Requirement already satisfied: tokenizers in /usr/local/lib/python3.7/dist-packages (0.10.3)\n",
            "Requirement already satisfied: torch in /usr/local/lib/python3.7/dist-packages (1.10.0+cu111)\n",
            "Requirement already satisfied: typing-extensions in /usr/local/lib/python3.7/dist-packages (from torch) (3.10.0.2)\n",
            "Collecting wget\n",
            "  Downloading wget-3.2.zip (10 kB)\n",
            "Building wheels for collected packages: wget\n",
            "  Building wheel for wget (setup.py) ... \u001b[?25l\u001b[?25hdone\n",
            "  Created wheel for wget: filename=wget-3.2-py3-none-any.whl size=9672 sha256=3ca1187588cd6545e6efa25241445664f778d8be7c63ca403bc697b66cf5533d\n",
            "  Stored in directory: /root/.cache/pip/wheels/a1/b6/7c/0e63e34eb06634181c63adacca38b79ff8f35c37e3c13e3c02\n",
            "Successfully built wget\n",
            "Installing collected packages: wget\n",
            "Successfully installed wget-3.2\n",
            "Collecting pyspark\n",
            "  Downloading pyspark-3.2.0.tar.gz (281.3 MB)\n",
            "\u001b[K     |████████████████████████████████| 281.3 MB 41 kB/s \n",
            "\u001b[?25hCollecting py4j==0.10.9.2\n",
            "  Downloading py4j-0.10.9.2-py2.py3-none-any.whl (198 kB)\n",
            "\u001b[K     |████████████████████████████████| 198 kB 43.0 MB/s \n",
            "\u001b[?25hBuilding wheels for collected packages: pyspark\n",
            "  Building wheel for pyspark (setup.py) ... \u001b[?25l\u001b[?25hdone\n",
            "  Created wheel for pyspark: filename=pyspark-3.2.0-py2.py3-none-any.whl size=281805912 sha256=4a27d63f1d6b5a758ceb82d60c7df3963c1d7b8b56302d575d3993a49048bb03\n",
            "  Stored in directory: /root/.cache/pip/wheels/0b/de/d2/9be5d59d7331c6c2a7c1b6d1a4f463ce107332b1ecd4e80718\n",
            "Successfully built pyspark\n",
            "Installing collected packages: py4j, pyspark\n",
            "Successfully installed py4j-0.10.9.2 pyspark-3.2.0\n"
          ]
        }
      ],
      "source": [
        "!pip install sentence_transformers\n",
        "!pip install transformers\n",
        "!pip install tokenizers\n",
        "!pip install torch\n",
        "!pip install wget\n",
        "\n",
        "!pip install pyspark\n",
        "from pyspark.sql import SparkSession\n",
        "from pyspark.sql.functions import *\n",
        "from pyspark.sql.types import *\n",
        "spark = SparkSession.builder.getOrCreate()\n",
        "\n",
        "import os\n",
        "import re\n",
        "import csv\n",
        "import wget\n",
        "import json\n",
        "import math\n",
        "import scipy\n",
        "import torch\n",
        "import string\n",
        "import sklearn\n",
        "\n",
        "import numpy as np\n",
        "import pandas as pd\n",
        "import tensorflow as tf\n",
        "\n",
        "from tensorflow import keras\n",
        "from tensorflow.keras import layers\n",
        "from tensorflow.keras.layers import Input\n",
        "\n",
        "from sentence_transformers import SentenceTransformer\n",
        "from sentence_transformers import LoggingHandler\n",
        "from sentence_transformers import models, losses, util\n",
        "from sentence_transformers.evaluation import EmbeddingSimilarityEvaluator\n",
        "from sentence_transformers.readers import InputExample\n",
        "\n",
        "from transformers import BertTokenizer, TFBertModel, BertConfig\n",
        "# from transformers import DistilBertTokenizer, DistilBertModel # -> smaller model\n",
        "\n",
        "from tokenizers import BertWordPieceTokenizer\n",
        "\n",
        "from torch.utils.data import DataLoader\n",
        "\n",
        "from datetime import datetime"
      ]
    },
    {
      "cell_type": "markdown",
      "metadata": {
        "id": "HR1aiNbSpaAa"
      },
      "source": [
        "**Mount Google Drive to load saved models**"
      ]
    },
    {
      "cell_type": "code",
      "execution_count": 2,
      "metadata": {
        "colab": {
          "base_uri": "https://localhost:8080/"
        },
        "id": "TlNVUAMfpXko",
        "outputId": "92021a47-ad2d-4f60-f75c-cf2c09defbb1"
      },
      "outputs": [
        {
          "output_type": "stream",
          "name": "stdout",
          "text": [
            "Mounted at /content/drive\n",
            "Dataset exists\n"
          ]
        }
      ],
      "source": [
        "# README - Execute this cell to mount the notebook in your google drive. \n",
        "# Execute the cell and follow the link to sign and, paste the given key in the little text box. The credentials are only available for you. \n",
        "\n",
        "from google.colab import drive\n",
        "drive.mount('/content/drive', force_remount=True)\n",
        "\n",
        "if not os.path.exists(\"/content/drive/MyDrive/stsbenchmark\"): \n",
        "  os.mkdir(\"/content/drive/MyDrive/stsbenchmark\")\n",
        "  os.chdir(\"/content/drive/MyDrive/stsbenchmark\")\n",
        "  !git clone https://github.com/emilstahl97/stsbenchmark.git\n",
        "  !git pull\n",
        "else:\n",
        "  print(\"Dataset exists\")\n",
        "  os.chdir(\"/content/drive/MyDrive/stsbenchmark\")\n",
        "\n",
        "\n",
        "schema = StructType([\n",
        "    StructField(\"genre\", StringType(), True),\n",
        "    StructField(\"filename\", StringType(), True),\n",
        "    StructField(\"year\", StringType(), True),\n",
        "    StructField(\"year_id\", IntegerType(), True),\n",
        "    StructField(\"score\", FloatType(), True),\n",
        "    StructField(\"sentence1\", StringType(), True),\n",
        "    StructField(\"sentence2\", StringType(), True)])\n",
        "\n",
        "train_path = \"/content/drive/MyDrive/stsbenchmark/stsbenchmark/sts-train.csv\"\n",
        "test_path = \"/content/drive/MyDrive/stsbenchmark/stsbenchmark/sts-test.csv\"\n",
        "dev_path = \"/content/drive/MyDrive/stsbenchmark/stsbenchmark/sts-dev.csv\"\n"
      ]
    },
    {
      "cell_type": "markdown",
      "metadata": {
        "id": "BHTmDfTnpiYW"
      },
      "source": [
        "## **REGRESSION**"
      ]
    },
    {
      "cell_type": "code",
      "execution_count": 3,
      "metadata": {
        "colab": {
          "base_uri": "https://localhost:8080/",
          "height": 250,
          "referenced_widgets": [
            "900d2ca1382741719918abbca9504c89",
            "fe9ac8f0222e46208fb19b2c7f93dfa7",
            "89a3688822c445b6a137b45959bc0fbc",
            "1c33ca8d9587483f87a12358392b4167",
            "cf6d647929794ee881e8e76ed36345f4",
            "f72890a6ebaa40fcaf942734e2d32f9d",
            "9a55b5ff81d44f449c990bc7d7188b29",
            "a8294c361eee4f0797a200feda761480",
            "f890e7e44e7b403386e09aaf53c64778",
            "53adee8522164469ad77354a83477f6f",
            "f9f28c02c9d74ad396790d58b20fa24c",
            "a7237fae0262453d8c8a689707e03f4a",
            "5dd2c914cc82436db65d23cba57758ba",
            "f4302e84f7eb4f56a0b94b9b1b04ea2e",
            "0d3b49079525422daaed5313d7cf0ab6",
            "7656f0feea88426bb84c4f3dd00e113c",
            "b066929f0e8e4c408fac8d1a84cc5062",
            "9ee146da37684fe491041a9016de2c83",
            "2e474358daea49768db32ed3edee61e9",
            "cd0a3f946ed54067aa2b6993f34daefb",
            "0790bced0e834c4597b78eb0893ab5c9",
            "8e9a47ecdaf84fa09a9214ecd82c680e",
            "5acb9bf1cd1a4e0db20d2418cc4614b9",
            "6678ea8c8a6d4b87830bed47fe24a118",
            "c2075088e3de4b64a845c367377fc32a",
            "bea42d8fe4bd45e7b042b99ba79aa8a2",
            "9ea133d6b9d64c44b7220974f808de4f",
            "9343d39bc8b0442bbe754cf3c9e4ecae",
            "fa06ed99fe43416eaed1b5e88f7c520c",
            "41cafc4f8ff84ad894d247190134115c",
            "09e412ce85614e209b0d8bd6d0f5e906",
            "439f036ed86642c18cb83084b255f837",
            "c75b135106cd48209a0c5c52e7525296",
            "0e9493e18cbe4e52a70684e13ef1c324",
            "044ed2c1b57a46f7824ee1f0a1883973",
            "c6e9ae32e42145cdbc86e5353216605e",
            "95381ef4b1664a379276a7dc00ae70d9",
            "c318c735278a46a48d13bdbccc5fd14c",
            "13209af923634d52b0b72e4373c2ed5f",
            "fe781aa627cc4c7ea2b0355c36001c6b",
            "eac20e85eaeb4197aafbf9f7dc8869af",
            "8efe84ffaee74a0f88b72c389ec14581",
            "1119b54e2b04420bb9b827cf3d536542",
            "67f8c7294d84477ca4272194ee06b852",
            "8bcd711fb557437c8654b48fc9b4129d",
            "5c51ac4005814970b3c11890b569f4b8",
            "755d711aabfa4d02ad681d4cb373e2fb",
            "2dd9c7b6426a4bf390a19503e92658cc",
            "0281378c3dbe41e8a28ed207b38d0043",
            "3cda73db5a324a9b9eae505a7480570a",
            "27521d164e534f00991f19baa7618cbd",
            "e99ff3a2e9124e6baf5693d741380612",
            "061f12005cd541f188ff86495dabed93",
            "999e336451fc4b9ca1ed7cc2d97afd23",
            "93a2eb95728c4fb2909b1ce364edba66"
          ]
        },
        "id": "YOi6F9ps0biy",
        "outputId": "1bcf25e0-9d69-47c7-b250-a35ec9f52e88"
      },
      "outputs": [
        {
          "output_type": "display_data",
          "data": {
            "application/vnd.jupyter.widget-view+json": {
              "model_id": "900d2ca1382741719918abbca9504c89",
              "version_minor": 0,
              "version_major": 2
            },
            "text/plain": [
              "Downloading:   0%|          | 0.00/570 [00:00<?, ?B/s]"
            ]
          },
          "metadata": {}
        },
        {
          "output_type": "display_data",
          "data": {
            "application/vnd.jupyter.widget-view+json": {
              "model_id": "a7237fae0262453d8c8a689707e03f4a",
              "version_minor": 0,
              "version_major": 2
            },
            "text/plain": [
              "Downloading:   0%|          | 0.00/420M [00:00<?, ?B/s]"
            ]
          },
          "metadata": {}
        },
        {
          "output_type": "stream",
          "name": "stderr",
          "text": [
            "Some weights of the model checkpoint at bert-base-uncased were not used when initializing BertModel: ['cls.predictions.transform.dense.weight', 'cls.predictions.transform.dense.bias', 'cls.seq_relationship.bias', 'cls.predictions.transform.LayerNorm.bias', 'cls.predictions.transform.LayerNorm.weight', 'cls.predictions.decoder.weight', 'cls.predictions.bias', 'cls.seq_relationship.weight']\n",
            "- This IS expected if you are initializing BertModel from the checkpoint of a model trained on another task or with another architecture (e.g. initializing a BertForSequenceClassification model from a BertForPreTraining model).\n",
            "- This IS NOT expected if you are initializing BertModel from the checkpoint of a model that you expect to be exactly identical (initializing a BertForSequenceClassification model from a BertForSequenceClassification model).\n"
          ]
        },
        {
          "output_type": "display_data",
          "data": {
            "application/vnd.jupyter.widget-view+json": {
              "model_id": "5acb9bf1cd1a4e0db20d2418cc4614b9",
              "version_minor": 0,
              "version_major": 2
            },
            "text/plain": [
              "Downloading:   0%|          | 0.00/28.0 [00:00<?, ?B/s]"
            ]
          },
          "metadata": {}
        },
        {
          "output_type": "display_data",
          "data": {
            "application/vnd.jupyter.widget-view+json": {
              "model_id": "0e9493e18cbe4e52a70684e13ef1c324",
              "version_minor": 0,
              "version_major": 2
            },
            "text/plain": [
              "Downloading:   0%|          | 0.00/226k [00:00<?, ?B/s]"
            ]
          },
          "metadata": {}
        },
        {
          "output_type": "display_data",
          "data": {
            "application/vnd.jupyter.widget-view+json": {
              "model_id": "8bcd711fb557437c8654b48fc9b4129d",
              "version_minor": 0,
              "version_major": 2
            },
            "text/plain": [
              "Downloading:   0%|          | 0.00/455k [00:00<?, ?B/s]"
            ]
          },
          "metadata": {}
        }
      ],
      "source": [
        "model_name = 'bert-base-uncased'\n",
        "word_embedding_model = models.Transformer(model_name)"
      ]
    },
    {
      "cell_type": "code",
      "execution_count": 4,
      "metadata": {
        "id": "rS97EOPBzg8v"
      },
      "outputs": [],
      "source": [
        "columns = ['title', 'type', 'year', 'id', 'score', 'sentence_1', 'sentence_2']"
      ]
    },
    {
      "cell_type": "code",
      "execution_count": 5,
      "metadata": {
        "colab": {
          "base_uri": "https://localhost:8080/"
        },
        "id": "wFbZbwrhAmQf",
        "outputId": "ab5ceed2-4965-4c57-b7a8-01702828e2a6"
      },
      "outputs": [
        {
          "output_type": "stream",
          "name": "stdout",
          "text": [
            "Loading train dataset ...\n"
          ]
        }
      ],
      "source": [
        "print('Loading train dataset ...')\n",
        "\n",
        "#train_path = '/content/sts-train.csv'\n",
        "os.path.isfile(train_path)\n",
        "\n",
        "train_samples = []\n",
        "\n",
        "with open(train_path, newline='') as train:\n",
        "    df_train = csv.DictReader(train, delimiter='\\t', fieldnames=columns, quoting=csv.QUOTE_NONE)\n",
        "    for row in df_train:\n",
        "        score = float(row['score']) / 2.5 - 1 # range -1 ... 1\n",
        "        input_example = InputExample(texts=[row['sentence_1'], row['sentence_2']], label=score)\n",
        "        train_samples.append(input_example)"
      ]
    },
    {
      "cell_type": "code",
      "execution_count": 6,
      "metadata": {
        "colab": {
          "base_uri": "https://localhost:8080/"
        },
        "id": "NqwOffUzOCIh",
        "outputId": "b796b614-ce99-4695-a99e-a54162812994"
      },
      "outputs": [
        {
          "output_type": "stream",
          "name": "stdout",
          "text": [
            "Loading test dataset ...\n"
          ]
        }
      ],
      "source": [
        "print('Loading test dataset ...')\n",
        "\n",
        "#test_path = '/content/sts-test.csv'\n",
        "os.path.isfile(test_path)\n",
        "\n",
        "test_samples = []\n",
        "\n",
        "with open(test_path, newline='') as test:\n",
        "    df_test = csv.DictReader(test, delimiter='\\t', fieldnames=columns, quoting=csv.QUOTE_NONE)\n",
        "    for row in df_test:\n",
        "        score = float(row['score']) / 2.5 - 1 # range -1 ... 1\n",
        "        input_example = InputExample(texts=[row['sentence_1'], row['sentence_2']], label=score)\n",
        "        test_samples.append(input_example)"
      ]
    },
    {
      "cell_type": "code",
      "execution_count": 7,
      "metadata": {
        "colab": {
          "base_uri": "https://localhost:8080/"
        },
        "id": "s2u5HRNUN9Po",
        "outputId": "29f1a6d8-e0e8-4945-9f63-2a0abdea9e57"
      },
      "outputs": [
        {
          "output_type": "stream",
          "name": "stdout",
          "text": [
            "Loading evaluation dataset ...\n"
          ]
        }
      ],
      "source": [
        "print('Loading evaluation dataset ...')\n",
        "\n",
        "#dev_path = '/content/sts-dev.csv'\n",
        "os.path.isfile(dev_path)\n",
        "\n",
        "dev_samples = []\n",
        "\n",
        "with open(dev_path, newline='') as dev:\n",
        "    df_dev = csv.DictReader(dev, delimiter='\\t', fieldnames=columns, quoting=csv.QUOTE_NONE)\n",
        "    for row in df_dev:\n",
        "        score = float(row['score']) / 2.5 - 1 # range -1 ... 1\n",
        "        input_example = InputExample(texts=[row['sentence_1'], row['sentence_2']], label=score)\n",
        "        dev_samples.append(input_example)"
      ]
    },
    {
      "cell_type": "markdown",
      "metadata": {
        "id": "HOdKI-S91Yb5"
      },
      "source": [
        "Considering the given paper \"*Sentence-BERT: Sentence Embeddings using Siamese BERT-Networks*\""
      ]
    },
    {
      "cell_type": "code",
      "execution_count": 8,
      "metadata": {
        "id": "epxEtXh2GMYu"
      },
      "outputs": [],
      "source": [
        "train_batch_size = 16\n",
        "# train_batch_size = 32 # try to speed up the training\n",
        "\n",
        "learn_rate = 2e-5\n",
        "num_epochs = 1"
      ]
    },
    {
      "cell_type": "markdown",
      "metadata": {
        "id": "WP5UDhSi2RFh"
      },
      "source": [
        "Mean-pooling strategy"
      ]
    },
    {
      "cell_type": "code",
      "execution_count": 9,
      "metadata": {
        "id": "fIRLPEnrGhG6"
      },
      "outputs": [],
      "source": [
        "pooling_model = models.Pooling(word_embedding_model.get_word_embedding_dimension(),\n",
        "                               pooling_mode_mean_tokens=True,\n",
        "                               pooling_mode_cls_token=False,\n",
        "                               pooling_mode_max_tokens=False)"
      ]
    },
    {
      "cell_type": "markdown",
      "metadata": {
        "id": "Fc11KhHR2nH4"
      },
      "source": [
        "Define the model"
      ]
    },
    {
      "cell_type": "code",
      "execution_count": 10,
      "metadata": {
        "id": "RozMxge52jC7"
      },
      "outputs": [],
      "source": [
        "# custom model using mean pooling of the word embeddings given as input\n",
        "model = SentenceTransformer(modules=[word_embedding_model, pooling_model])"
      ]
    },
    {
      "cell_type": "markdown",
      "metadata": {
        "id": "tNI9URmg4vCk"
      },
      "source": [
        "Load the training set and define the loss function as the cosine similarity"
      ]
    },
    {
      "cell_type": "code",
      "execution_count": 11,
      "metadata": {
        "id": "iht5w4HJlhtt"
      },
      "outputs": [],
      "source": [
        "train_dataloader = DataLoader(train_samples, shuffle=True, batch_size=train_batch_size)\n",
        "train_loss = losses.CosineSimilarityLoss(model=model)"
      ]
    },
    {
      "cell_type": "markdown",
      "metadata": {
        "id": "NYZlyR-i6z3j"
      },
      "source": [
        "Define the evaluator for the sentence embeddings"
      ]
    },
    {
      "cell_type": "code",
      "execution_count": 12,
      "metadata": {
        "id": "JchPxNSDT2f9"
      },
      "outputs": [],
      "source": [
        "evaluator = EmbeddingSimilarityEvaluator.from_input_examples(dev_samples, batch_size=train_batch_size, name='sts-dev')"
      ]
    },
    {
      "cell_type": "markdown",
      "metadata": {
        "id": "yQ2IPb4y7CVk"
      },
      "source": [
        "10% of train dataset for warm-up"
      ]
    },
    {
      "cell_type": "code",
      "execution_count": 13,
      "metadata": {
        "id": "g-nlK2kmUCve"
      },
      "outputs": [],
      "source": [
        "warmup_steps = math.ceil(len(train_dataloader) * num_epochs * 0.1)"
      ]
    },
    {
      "cell_type": "markdown",
      "metadata": {
        "id": "0jrrFM8r7Ly9"
      },
      "source": [
        "**Training**"
      ]
    },
    {
      "cell_type": "code",
      "execution_count": 14,
      "metadata": {
        "id": "ZbMrmq-11tt-"
      },
      "outputs": [],
      "source": [
        "save_path = './training_sts_reg_'+model_name+'-'+datetime.now().strftime(\"%Y-%m-%d_%H-%M-%S\")"
      ]
    },
    {
      "cell_type": "code",
      "execution_count": 15,
      "metadata": {
        "collapsed": true,
        "id": "TxEXdHtiUDXk",
        "colab": {
          "base_uri": "https://localhost:8080/",
          "height": 101,
          "referenced_widgets": [
            "dd4a11a7bb0a45ff97ae3387f04a675f",
            "ad90cb8ce8c74d55ac266a5e0023531b",
            "91c174746c634cb68a0877e962198066",
            "f9b4024489f24ca1b3926a0c21f33b4e",
            "2b95de2c0e6f4eab84e04bd619ca28f9",
            "bf51d9832a5d4d359306771eb8121a4e",
            "5758aa38e520441891c318fc96795e1f",
            "3f009f50aab840cca006db23d455037d",
            "e7f4db7e36a3422aac417a2453f637f3",
            "095f5f9b43bb43ecb24c8bd2b8ac60a3",
            "64b1ae5476f94d0385f17cf70fcf1ac8",
            "58899372e71241c097960b072f91692a",
            "01978f0e601e4b968d2ede973c602883",
            "dd7b3f312fc741698ce25b62bc37c045",
            "00bcf814b5004781a708e32ba16a635d",
            "5e95309557bb48d28dfdd3e640dd42b5",
            "bf4069b42ec949858a4b35854e23a6a8",
            "be36ed0fbb6840a2859e471fc6cf6957",
            "e1f4dd60a8d340a3b3de401c1d7f781f",
            "1beee579ec2d4dcd82a9e26d6751da2f",
            "8475da940df44cefb37803215f0c2777",
            "0c6bc7d87a184f10af9e2ed07e190640"
          ]
        },
        "outputId": "9e329235-7a7b-4f03-b102-3fcda6a0b646"
      },
      "outputs": [
        {
          "output_type": "display_data",
          "data": {
            "application/vnd.jupyter.widget-view+json": {
              "model_id": "dd4a11a7bb0a45ff97ae3387f04a675f",
              "version_minor": 0,
              "version_major": 2
            },
            "text/plain": [
              "Epoch:   0%|          | 0/1 [00:00<?, ?it/s]"
            ]
          },
          "metadata": {}
        },
        {
          "output_type": "display_data",
          "data": {
            "application/vnd.jupyter.widget-view+json": {
              "model_id": "58899372e71241c097960b072f91692a",
              "version_minor": 0,
              "version_major": 2
            },
            "text/plain": [
              "Iteration:   0%|          | 0/360 [00:00<?, ?it/s]"
            ]
          },
          "metadata": {}
        }
      ],
      "source": [
        "model.fit(train_objectives=[(train_dataloader, train_loss)],\n",
        "            optimizer_class=torch.optim.Adam,\n",
        "            optimizer_params={'lr': learn_rate},\n",
        "            evaluator=evaluator,\n",
        "            epochs=num_epochs,\n",
        "            evaluation_steps=1000,\n",
        "            warmup_steps=warmup_steps,\n",
        "            output_path=save_path)"
      ]
    },
    {
      "cell_type": "markdown",
      "metadata": {
        "id": "foas3A_I981K"
      },
      "source": [
        "**Evaluation on STS benchmark dataset**\n",
        "\n",
        "Mathematical relationship: *cosine_similarity = 1 - cosine_distance*"
      ]
    },
    {
      "cell_type": "code",
      "execution_count": 16,
      "metadata": {
        "id": "oz0B_1KpUi3S",
        "colab": {
          "base_uri": "https://localhost:8080/"
        },
        "outputId": "cfbef223-6d16-41e2-8a1b-95be5281a512"
      },
      "outputs": [
        {
          "output_type": "stream",
          "name": "stdout",
          "text": [
            "Loading the stored model ...\n"
          ]
        }
      ],
      "source": [
        "print('Loading the stored model ...')\n",
        "model = SentenceTransformer(save_path)"
      ]
    },
    {
      "cell_type": "code",
      "execution_count": 17,
      "metadata": {
        "id": "Qv93RESm_tyi",
        "colab": {
          "base_uri": "https://localhost:8080/"
        },
        "outputId": "39d7f977-c7ce-4d0b-b473-97370a11ae12"
      },
      "outputs": [
        {
          "output_type": "stream",
          "name": "stdout",
          "text": [
            "Cosine similarity with the sentence_transformers library =  0.5783069173676747\n"
          ]
        }
      ],
      "source": [
        "test_eval = EmbeddingSimilarityEvaluator.from_input_examples(test_samples, batch_size=train_batch_size, name='sts-test')\n",
        "c_s = test_eval(model, output_path=save_path)\n",
        "print('Cosine similarity with the sentence_transformers library = ', c_s)\n",
        "\n",
        "# sometimes the result is between 0.7 and 0.8"
      ]
    },
    {
      "cell_type": "markdown",
      "metadata": {
        "id": "axyd6hqZ_a5p"
      },
      "source": [
        "Embedding sentences"
      ]
    },
    {
      "cell_type": "code",
      "execution_count": 18,
      "metadata": {
        "id": "fMDBfVfPHlOx",
        "colab": {
          "base_uri": "https://localhost:8080/"
        },
        "outputId": "9618f4c4-ee89-40b0-c144-a05b15ee9731"
      },
      "outputs": [
        {
          "output_type": "stream",
          "name": "stderr",
          "text": [
            "b'Skipping line 626: expected 7 fields, saw 9\\nSkipping line 627: expected 7 fields, saw 9\\nSkipping line 628: expected 7 fields, saw 9\\nSkipping line 629: expected 7 fields, saw 9\\nSkipping line 630: expected 7 fields, saw 9\\nSkipping line 631: expected 7 fields, saw 9\\nSkipping line 632: expected 7 fields, saw 9\\nSkipping line 633: expected 7 fields, saw 9\\nSkipping line 634: expected 7 fields, saw 9\\nSkipping line 635: expected 7 fields, saw 9\\nSkipping line 636: expected 7 fields, saw 9\\nSkipping line 637: expected 7 fields, saw 9\\nSkipping line 638: expected 7 fields, saw 9\\nSkipping line 639: expected 7 fields, saw 9\\nSkipping line 640: expected 7 fields, saw 9\\nSkipping line 641: expected 7 fields, saw 9\\nSkipping line 642: expected 7 fields, saw 9\\nSkipping line 643: expected 7 fields, saw 9\\nSkipping line 644: expected 7 fields, saw 9\\nSkipping line 645: expected 7 fields, saw 9\\nSkipping line 646: expected 7 fields, saw 9\\nSkipping line 647: expected 7 fields, saw 9\\nSkipping line 648: expected 7 fields, saw 9\\nSkipping line 649: expected 7 fields, saw 9\\nSkipping line 650: expected 7 fields, saw 9\\nSkipping line 651: expected 7 fields, saw 9\\nSkipping line 652: expected 7 fields, saw 9\\nSkipping line 653: expected 7 fields, saw 9\\nSkipping line 654: expected 7 fields, saw 9\\nSkipping line 655: expected 7 fields, saw 9\\nSkipping line 656: expected 7 fields, saw 9\\nSkipping line 657: expected 7 fields, saw 9\\nSkipping line 658: expected 7 fields, saw 9\\nSkipping line 659: expected 7 fields, saw 9\\nSkipping line 660: expected 7 fields, saw 9\\nSkipping line 661: expected 7 fields, saw 9\\nSkipping line 662: expected 7 fields, saw 9\\nSkipping line 663: expected 7 fields, saw 9\\nSkipping line 664: expected 7 fields, saw 9\\nSkipping line 665: expected 7 fields, saw 9\\nSkipping line 666: expected 7 fields, saw 9\\nSkipping line 667: expected 7 fields, saw 9\\nSkipping line 668: expected 7 fields, saw 9\\nSkipping line 669: expected 7 fields, saw 9\\nSkipping line 670: expected 7 fields, saw 9\\nSkipping line 671: expected 7 fields, saw 9\\nSkipping line 672: expected 7 fields, saw 9\\nSkipping line 673: expected 7 fields, saw 9\\nSkipping line 674: expected 7 fields, saw 9\\nSkipping line 675: expected 7 fields, saw 9\\nSkipping line 676: expected 7 fields, saw 9\\nSkipping line 677: expected 7 fields, saw 9\\nSkipping line 678: expected 7 fields, saw 9\\nSkipping line 679: expected 7 fields, saw 9\\nSkipping line 680: expected 7 fields, saw 9\\nSkipping line 681: expected 7 fields, saw 9\\nSkipping line 682: expected 7 fields, saw 9\\nSkipping line 683: expected 7 fields, saw 9\\nSkipping line 684: expected 7 fields, saw 9\\nSkipping line 685: expected 7 fields, saw 9\\nSkipping line 686: expected 7 fields, saw 9\\nSkipping line 687: expected 7 fields, saw 9\\nSkipping line 688: expected 7 fields, saw 9\\nSkipping line 689: expected 7 fields, saw 9\\nSkipping line 690: expected 7 fields, saw 9\\nSkipping line 691: expected 7 fields, saw 9\\nSkipping line 692: expected 7 fields, saw 9\\nSkipping line 693: expected 7 fields, saw 9\\nSkipping line 694: expected 7 fields, saw 9\\nSkipping line 695: expected 7 fields, saw 9\\nSkipping line 696: expected 7 fields, saw 9\\nSkipping line 697: expected 7 fields, saw 9\\nSkipping line 698: expected 7 fields, saw 9\\nSkipping line 699: expected 7 fields, saw 9\\nSkipping line 700: expected 7 fields, saw 9\\nSkipping line 701: expected 7 fields, saw 9\\nSkipping line 702: expected 7 fields, saw 9\\nSkipping line 703: expected 7 fields, saw 9\\nSkipping line 704: expected 7 fields, saw 9\\nSkipping line 705: expected 7 fields, saw 9\\nSkipping line 706: expected 7 fields, saw 9\\nSkipping line 707: expected 7 fields, saw 9\\nSkipping line 708: expected 7 fields, saw 9\\nSkipping line 709: expected 7 fields, saw 9\\nSkipping line 710: expected 7 fields, saw 9\\nSkipping line 711: expected 7 fields, saw 9\\nSkipping line 712: expected 7 fields, saw 9\\nSkipping line 713: expected 7 fields, saw 9\\nSkipping line 714: expected 7 fields, saw 9\\nSkipping line 715: expected 7 fields, saw 9\\nSkipping line 716: expected 7 fields, saw 9\\nSkipping line 717: expected 7 fields, saw 9\\nSkipping line 718: expected 7 fields, saw 9\\nSkipping line 719: expected 7 fields, saw 9\\nSkipping line 720: expected 7 fields, saw 9\\nSkipping line 721: expected 7 fields, saw 9\\nSkipping line 722: expected 7 fields, saw 9\\nSkipping line 723: expected 7 fields, saw 9\\nSkipping line 724: expected 7 fields, saw 9\\nSkipping line 725: expected 7 fields, saw 9\\nSkipping line 726: expected 7 fields, saw 9\\nSkipping line 727: expected 7 fields, saw 9\\nSkipping line 728: expected 7 fields, saw 9\\nSkipping line 729: expected 7 fields, saw 9\\nSkipping line 730: expected 7 fields, saw 9\\nSkipping line 731: expected 7 fields, saw 9\\nSkipping line 732: expected 7 fields, saw 9\\nSkipping line 733: expected 7 fields, saw 9\\nSkipping line 734: expected 7 fields, saw 9\\nSkipping line 735: expected 7 fields, saw 9\\nSkipping line 736: expected 7 fields, saw 9\\nSkipping line 737: expected 7 fields, saw 9\\nSkipping line 738: expected 7 fields, saw 9\\nSkipping line 739: expected 7 fields, saw 9\\nSkipping line 740: expected 7 fields, saw 9\\nSkipping line 741: expected 7 fields, saw 9\\nSkipping line 742: expected 7 fields, saw 9\\nSkipping line 743: expected 7 fields, saw 9\\nSkipping line 744: expected 7 fields, saw 9\\nSkipping line 745: expected 7 fields, saw 9\\nSkipping line 746: expected 7 fields, saw 9\\nSkipping line 747: expected 7 fields, saw 9\\nSkipping line 748: expected 7 fields, saw 9\\nSkipping line 749: expected 7 fields, saw 9\\nSkipping line 750: expected 7 fields, saw 9\\nSkipping line 751: expected 7 fields, saw 9\\nSkipping line 752: expected 7 fields, saw 9\\nSkipping line 753: expected 7 fields, saw 9\\nSkipping line 754: expected 7 fields, saw 9\\nSkipping line 755: expected 7 fields, saw 9\\nSkipping line 756: expected 7 fields, saw 9\\nSkipping line 757: expected 7 fields, saw 9\\nSkipping line 758: expected 7 fields, saw 9\\nSkipping line 759: expected 7 fields, saw 9\\nSkipping line 760: expected 7 fields, saw 9\\nSkipping line 761: expected 7 fields, saw 9\\nSkipping line 762: expected 7 fields, saw 9\\nSkipping line 763: expected 7 fields, saw 9\\nSkipping line 764: expected 7 fields, saw 9\\nSkipping line 765: expected 7 fields, saw 9\\nSkipping line 766: expected 7 fields, saw 9\\nSkipping line 767: expected 7 fields, saw 9\\nSkipping line 768: expected 7 fields, saw 9\\nSkipping line 769: expected 7 fields, saw 9\\nSkipping line 770: expected 7 fields, saw 9\\nSkipping line 771: expected 7 fields, saw 9\\nSkipping line 772: expected 7 fields, saw 9\\nSkipping line 773: expected 7 fields, saw 9\\nSkipping line 774: expected 7 fields, saw 9\\nSkipping line 775: expected 7 fields, saw 9\\nSkipping line 776: expected 7 fields, saw 9\\nSkipping line 777: expected 7 fields, saw 9\\nSkipping line 778: expected 7 fields, saw 9\\nSkipping line 779: expected 7 fields, saw 9\\nSkipping line 780: expected 7 fields, saw 9\\nSkipping line 781: expected 7 fields, saw 9\\nSkipping line 782: expected 7 fields, saw 9\\nSkipping line 783: expected 7 fields, saw 9\\nSkipping line 784: expected 7 fields, saw 9\\nSkipping line 785: expected 7 fields, saw 9\\nSkipping line 786: expected 7 fields, saw 9\\nSkipping line 787: expected 7 fields, saw 9\\nSkipping line 788: expected 7 fields, saw 9\\nSkipping line 789: expected 7 fields, saw 9\\nSkipping line 790: expected 7 fields, saw 9\\nSkipping line 791: expected 7 fields, saw 9\\nSkipping line 792: expected 7 fields, saw 9\\nSkipping line 793: expected 7 fields, saw 9\\nSkipping line 794: expected 7 fields, saw 9\\nSkipping line 795: expected 7 fields, saw 9\\nSkipping line 796: expected 7 fields, saw 9\\nSkipping line 797: expected 7 fields, saw 9\\nSkipping line 798: expected 7 fields, saw 9\\nSkipping line 799: expected 7 fields, saw 9\\nSkipping line 800: expected 7 fields, saw 9\\nSkipping line 801: expected 7 fields, saw 9\\nSkipping line 802: expected 7 fields, saw 9\\nSkipping line 803: expected 7 fields, saw 9\\nSkipping line 804: expected 7 fields, saw 9\\nSkipping line 805: expected 7 fields, saw 9\\nSkipping line 806: expected 7 fields, saw 9\\nSkipping line 807: expected 7 fields, saw 9\\nSkipping line 808: expected 7 fields, saw 9\\nSkipping line 809: expected 7 fields, saw 9\\nSkipping line 810: expected 7 fields, saw 9\\nSkipping line 811: expected 7 fields, saw 9\\nSkipping line 812: expected 7 fields, saw 9\\nSkipping line 813: expected 7 fields, saw 9\\nSkipping line 814: expected 7 fields, saw 9\\nSkipping line 815: expected 7 fields, saw 9\\nSkipping line 816: expected 7 fields, saw 9\\nSkipping line 817: expected 7 fields, saw 9\\nSkipping line 818: expected 7 fields, saw 9\\nSkipping line 819: expected 7 fields, saw 9\\nSkipping line 820: expected 7 fields, saw 9\\nSkipping line 821: expected 7 fields, saw 9\\nSkipping line 822: expected 7 fields, saw 9\\nSkipping line 823: expected 7 fields, saw 9\\nSkipping line 824: expected 7 fields, saw 9\\nSkipping line 825: expected 7 fields, saw 9\\nSkipping line 826: expected 7 fields, saw 9\\nSkipping line 827: expected 7 fields, saw 9\\nSkipping line 828: expected 7 fields, saw 9\\nSkipping line 829: expected 7 fields, saw 9\\nSkipping line 830: expected 7 fields, saw 9\\nSkipping line 831: expected 7 fields, saw 9\\nSkipping line 832: expected 7 fields, saw 9\\nSkipping line 833: expected 7 fields, saw 9\\nSkipping line 834: expected 7 fields, saw 9\\nSkipping line 835: expected 7 fields, saw 9\\nSkipping line 836: expected 7 fields, saw 9\\nSkipping line 837: expected 7 fields, saw 9\\nSkipping line 838: expected 7 fields, saw 9\\nSkipping line 839: expected 7 fields, saw 9\\nSkipping line 840: expected 7 fields, saw 9\\nSkipping line 841: expected 7 fields, saw 9\\nSkipping line 842: expected 7 fields, saw 9\\nSkipping line 843: expected 7 fields, saw 9\\nSkipping line 844: expected 7 fields, saw 9\\nSkipping line 845: expected 7 fields, saw 9\\nSkipping line 846: expected 7 fields, saw 9\\nSkipping line 847: expected 7 fields, saw 9\\nSkipping line 848: expected 7 fields, saw 9\\nSkipping line 849: expected 7 fields, saw 9\\nSkipping line 850: expected 7 fields, saw 9\\nSkipping line 851: expected 7 fields, saw 9\\nSkipping line 852: expected 7 fields, saw 9\\nSkipping line 853: expected 7 fields, saw 9\\nSkipping line 854: expected 7 fields, saw 9\\nSkipping line 855: expected 7 fields, saw 9\\nSkipping line 856: expected 7 fields, saw 9\\nSkipping line 857: expected 7 fields, saw 9\\nSkipping line 858: expected 7 fields, saw 9\\nSkipping line 859: expected 7 fields, saw 9\\nSkipping line 860: expected 7 fields, saw 9\\nSkipping line 861: expected 7 fields, saw 9\\nSkipping line 862: expected 7 fields, saw 9\\nSkipping line 863: expected 7 fields, saw 9\\nSkipping line 864: expected 7 fields, saw 9\\nSkipping line 865: expected 7 fields, saw 9\\nSkipping line 866: expected 7 fields, saw 9\\nSkipping line 867: expected 7 fields, saw 9\\nSkipping line 868: expected 7 fields, saw 9\\nSkipping line 869: expected 7 fields, saw 9\\nSkipping line 870: expected 7 fields, saw 9\\nSkipping line 871: expected 7 fields, saw 9\\nSkipping line 872: expected 7 fields, saw 9\\nSkipping line 873: expected 7 fields, saw 9\\nSkipping line 874: expected 7 fields, saw 9\\nSkipping line 875: expected 7 fields, saw 9\\nSkipping line 876: expected 7 fields, saw 9\\nSkipping line 877: expected 7 fields, saw 9\\nSkipping line 878: expected 7 fields, saw 9\\nSkipping line 879: expected 7 fields, saw 9\\nSkipping line 1350: expected 7 fields, saw 9\\nSkipping line 1351: expected 7 fields, saw 9\\nSkipping line 1352: expected 7 fields, saw 9\\nSkipping line 1353: expected 7 fields, saw 9\\nSkipping line 1354: expected 7 fields, saw 9\\nSkipping line 1355: expected 7 fields, saw 9\\nSkipping line 1356: expected 7 fields, saw 9\\nSkipping line 1357: expected 7 fields, saw 9\\nSkipping line 1358: expected 7 fields, saw 9\\nSkipping line 1359: expected 7 fields, saw 9\\nSkipping line 1360: expected 7 fields, saw 9\\nSkipping line 1361: expected 7 fields, saw 9\\nSkipping line 1362: expected 7 fields, saw 9\\nSkipping line 1363: expected 7 fields, saw 9\\nSkipping line 1364: expected 7 fields, saw 9\\nSkipping line 1365: expected 7 fields, saw 9\\nSkipping line 1366: expected 7 fields, saw 9\\nSkipping line 1367: expected 7 fields, saw 9\\nSkipping line 1368: expected 7 fields, saw 9\\nSkipping line 1369: expected 7 fields, saw 9\\nSkipping line 1370: expected 7 fields, saw 9\\nSkipping line 1371: expected 7 fields, saw 9\\nSkipping line 1372: expected 7 fields, saw 9\\nSkipping line 1373: expected 7 fields, saw 9\\nSkipping line 1374: expected 7 fields, saw 9\\nSkipping line 1375: expected 7 fields, saw 9\\nSkipping line 1376: expected 7 fields, saw 9\\nSkipping line 1377: expected 7 fields, saw 9\\nSkipping line 1378: expected 7 fields, saw 9\\nSkipping line 1379: expected 7 fields, saw 9\\n'\n"
          ]
        }
      ],
      "source": [
        "df_test = pd.read_csv(test_path, sep='\\t', header=None, error_bad_lines=False, quoting=csv.QUOTE_NONE)\n",
        "df_test.columns = columns"
      ]
    },
    {
      "cell_type": "code",
      "execution_count": 19,
      "metadata": {
        "id": "Vy0C_4qm_tsR"
      },
      "outputs": [],
      "source": [
        "embed_1 = model.encode(df_test['sentence_1'], convert_to_numpy=True, batch_size=train_batch_size)\n",
        "embed_2 = model.encode(df_test['sentence_2'], convert_to_numpy=True, batch_size=train_batch_size)"
      ]
    },
    {
      "cell_type": "markdown",
      "metadata": {
        "id": "iv3qFiDeB3uS"
      },
      "source": [
        "Compute the cosine similarity"
      ]
    },
    {
      "cell_type": "code",
      "execution_count": 20,
      "metadata": {
        "id": "Y9oux_4b_tk_",
        "colab": {
          "base_uri": "https://localhost:8080/"
        },
        "outputId": "c270a37f-f377-4534-fb44-ce29cf13185e"
      },
      "outputs": [
        {
          "output_type": "stream",
          "name": "stdout",
          "text": [
            "Cosine similarity =  [0.43502486 0.91794527 0.6754549  ... 0.77641326 0.83394563 0.9124667 ]\n"
          ]
        }
      ],
      "source": [
        "cos_sim = 1 - sklearn.metrics.pairwise.paired_cosine_distances(embed_1, embed_2)\n",
        "print('Cosine similarity = ', cos_sim)"
      ]
    },
    {
      "cell_type": "markdown",
      "metadata": {
        "id": "U4d__O86B9DB"
      },
      "source": [
        "Spearmean correlation coefficient"
      ]
    },
    {
      "cell_type": "code",
      "execution_count": 21,
      "metadata": {
        "id": "oVziirO7-vHR",
        "colab": {
          "base_uri": "https://localhost:8080/"
        },
        "outputId": "efd09f6b-ecbb-46dd-d074-469418b65261"
      },
      "outputs": [
        {
          "output_type": "stream",
          "name": "stdout",
          "text": [
            "Spearmean correlation coefficient =  0.5949862968598907\n"
          ]
        }
      ],
      "source": [
        "spr_corr = scipy.stats.spearmanr(cos_sim, df_test['score'])\n",
        "print('Spearmean correlation coefficient = ', spr_corr[0])"
      ]
    },
    {
      "cell_type": "markdown",
      "metadata": {
        "id": "XW3C-qqGIcpc"
      },
      "source": [
        "**Comment:** the two results match each other"
      ]
    }
  ],
  "metadata": {
    "accelerator": "GPU",
    "colab": {
      "collapsed_sections": [],
      "name": "lab2-id2223.ipynb",
      "provenance": [],
      "include_colab_link": true
    },
    "kernelspec": {
      "display_name": "Python 3",
      "name": "python3"
    },
    "language_info": {
      "name": "python"
    },
    "widgets": {
      "application/vnd.jupyter.widget-state+json": {
        "900d2ca1382741719918abbca9504c89": {
          "model_module": "@jupyter-widgets/controls",
          "model_name": "HBoxModel",
          "model_module_version": "1.5.0",
          "state": {
            "_view_name": "HBoxView",
            "_dom_classes": [],
            "_model_name": "HBoxModel",
            "_view_module": "@jupyter-widgets/controls",
            "_model_module_version": "1.5.0",
            "_view_count": null,
            "_view_module_version": "1.5.0",
            "box_style": "",
            "layout": "IPY_MODEL_fe9ac8f0222e46208fb19b2c7f93dfa7",
            "_model_module": "@jupyter-widgets/controls",
            "children": [
              "IPY_MODEL_89a3688822c445b6a137b45959bc0fbc",
              "IPY_MODEL_1c33ca8d9587483f87a12358392b4167",
              "IPY_MODEL_cf6d647929794ee881e8e76ed36345f4"
            ]
          }
        },
        "fe9ac8f0222e46208fb19b2c7f93dfa7": {
          "model_module": "@jupyter-widgets/base",
          "model_name": "LayoutModel",
          "model_module_version": "1.2.0",
          "state": {
            "_view_name": "LayoutView",
            "grid_template_rows": null,
            "right": null,
            "justify_content": null,
            "_view_module": "@jupyter-widgets/base",
            "overflow": null,
            "_model_module_version": "1.2.0",
            "_view_count": null,
            "flex_flow": null,
            "width": null,
            "min_width": null,
            "border": null,
            "align_items": null,
            "bottom": null,
            "_model_module": "@jupyter-widgets/base",
            "top": null,
            "grid_column": null,
            "overflow_y": null,
            "overflow_x": null,
            "grid_auto_flow": null,
            "grid_area": null,
            "grid_template_columns": null,
            "flex": null,
            "_model_name": "LayoutModel",
            "justify_items": null,
            "grid_row": null,
            "max_height": null,
            "align_content": null,
            "visibility": null,
            "align_self": null,
            "height": null,
            "min_height": null,
            "padding": null,
            "grid_auto_rows": null,
            "grid_gap": null,
            "max_width": null,
            "order": null,
            "_view_module_version": "1.2.0",
            "grid_template_areas": null,
            "object_position": null,
            "object_fit": null,
            "grid_auto_columns": null,
            "margin": null,
            "display": null,
            "left": null
          }
        },
        "89a3688822c445b6a137b45959bc0fbc": {
          "model_module": "@jupyter-widgets/controls",
          "model_name": "HTMLModel",
          "model_module_version": "1.5.0",
          "state": {
            "_view_name": "HTMLView",
            "style": "IPY_MODEL_f72890a6ebaa40fcaf942734e2d32f9d",
            "_dom_classes": [],
            "description": "",
            "_model_name": "HTMLModel",
            "placeholder": "​",
            "_view_module": "@jupyter-widgets/controls",
            "_model_module_version": "1.5.0",
            "value": "Downloading: 100%",
            "_view_count": null,
            "_view_module_version": "1.5.0",
            "description_tooltip": null,
            "_model_module": "@jupyter-widgets/controls",
            "layout": "IPY_MODEL_9a55b5ff81d44f449c990bc7d7188b29"
          }
        },
        "1c33ca8d9587483f87a12358392b4167": {
          "model_module": "@jupyter-widgets/controls",
          "model_name": "FloatProgressModel",
          "model_module_version": "1.5.0",
          "state": {
            "_view_name": "ProgressView",
            "style": "IPY_MODEL_a8294c361eee4f0797a200feda761480",
            "_dom_classes": [],
            "description": "",
            "_model_name": "FloatProgressModel",
            "bar_style": "success",
            "max": 570,
            "_view_module": "@jupyter-widgets/controls",
            "_model_module_version": "1.5.0",
            "value": 570,
            "_view_count": null,
            "_view_module_version": "1.5.0",
            "orientation": "horizontal",
            "min": 0,
            "description_tooltip": null,
            "_model_module": "@jupyter-widgets/controls",
            "layout": "IPY_MODEL_f890e7e44e7b403386e09aaf53c64778"
          }
        },
        "cf6d647929794ee881e8e76ed36345f4": {
          "model_module": "@jupyter-widgets/controls",
          "model_name": "HTMLModel",
          "model_module_version": "1.5.0",
          "state": {
            "_view_name": "HTMLView",
            "style": "IPY_MODEL_53adee8522164469ad77354a83477f6f",
            "_dom_classes": [],
            "description": "",
            "_model_name": "HTMLModel",
            "placeholder": "​",
            "_view_module": "@jupyter-widgets/controls",
            "_model_module_version": "1.5.0",
            "value": " 570/570 [00:00&lt;00:00, 11.2kB/s]",
            "_view_count": null,
            "_view_module_version": "1.5.0",
            "description_tooltip": null,
            "_model_module": "@jupyter-widgets/controls",
            "layout": "IPY_MODEL_f9f28c02c9d74ad396790d58b20fa24c"
          }
        },
        "f72890a6ebaa40fcaf942734e2d32f9d": {
          "model_module": "@jupyter-widgets/controls",
          "model_name": "DescriptionStyleModel",
          "model_module_version": "1.5.0",
          "state": {
            "_view_name": "StyleView",
            "_model_name": "DescriptionStyleModel",
            "description_width": "",
            "_view_module": "@jupyter-widgets/base",
            "_model_module_version": "1.5.0",
            "_view_count": null,
            "_view_module_version": "1.2.0",
            "_model_module": "@jupyter-widgets/controls"
          }
        },
        "9a55b5ff81d44f449c990bc7d7188b29": {
          "model_module": "@jupyter-widgets/base",
          "model_name": "LayoutModel",
          "model_module_version": "1.2.0",
          "state": {
            "_view_name": "LayoutView",
            "grid_template_rows": null,
            "right": null,
            "justify_content": null,
            "_view_module": "@jupyter-widgets/base",
            "overflow": null,
            "_model_module_version": "1.2.0",
            "_view_count": null,
            "flex_flow": null,
            "width": null,
            "min_width": null,
            "border": null,
            "align_items": null,
            "bottom": null,
            "_model_module": "@jupyter-widgets/base",
            "top": null,
            "grid_column": null,
            "overflow_y": null,
            "overflow_x": null,
            "grid_auto_flow": null,
            "grid_area": null,
            "grid_template_columns": null,
            "flex": null,
            "_model_name": "LayoutModel",
            "justify_items": null,
            "grid_row": null,
            "max_height": null,
            "align_content": null,
            "visibility": null,
            "align_self": null,
            "height": null,
            "min_height": null,
            "padding": null,
            "grid_auto_rows": null,
            "grid_gap": null,
            "max_width": null,
            "order": null,
            "_view_module_version": "1.2.0",
            "grid_template_areas": null,
            "object_position": null,
            "object_fit": null,
            "grid_auto_columns": null,
            "margin": null,
            "display": null,
            "left": null
          }
        },
        "a8294c361eee4f0797a200feda761480": {
          "model_module": "@jupyter-widgets/controls",
          "model_name": "ProgressStyleModel",
          "model_module_version": "1.5.0",
          "state": {
            "_view_name": "StyleView",
            "_model_name": "ProgressStyleModel",
            "description_width": "",
            "_view_module": "@jupyter-widgets/base",
            "_model_module_version": "1.5.0",
            "_view_count": null,
            "_view_module_version": "1.2.0",
            "bar_color": null,
            "_model_module": "@jupyter-widgets/controls"
          }
        },
        "f890e7e44e7b403386e09aaf53c64778": {
          "model_module": "@jupyter-widgets/base",
          "model_name": "LayoutModel",
          "model_module_version": "1.2.0",
          "state": {
            "_view_name": "LayoutView",
            "grid_template_rows": null,
            "right": null,
            "justify_content": null,
            "_view_module": "@jupyter-widgets/base",
            "overflow": null,
            "_model_module_version": "1.2.0",
            "_view_count": null,
            "flex_flow": null,
            "width": null,
            "min_width": null,
            "border": null,
            "align_items": null,
            "bottom": null,
            "_model_module": "@jupyter-widgets/base",
            "top": null,
            "grid_column": null,
            "overflow_y": null,
            "overflow_x": null,
            "grid_auto_flow": null,
            "grid_area": null,
            "grid_template_columns": null,
            "flex": null,
            "_model_name": "LayoutModel",
            "justify_items": null,
            "grid_row": null,
            "max_height": null,
            "align_content": null,
            "visibility": null,
            "align_self": null,
            "height": null,
            "min_height": null,
            "padding": null,
            "grid_auto_rows": null,
            "grid_gap": null,
            "max_width": null,
            "order": null,
            "_view_module_version": "1.2.0",
            "grid_template_areas": null,
            "object_position": null,
            "object_fit": null,
            "grid_auto_columns": null,
            "margin": null,
            "display": null,
            "left": null
          }
        },
        "53adee8522164469ad77354a83477f6f": {
          "model_module": "@jupyter-widgets/controls",
          "model_name": "DescriptionStyleModel",
          "model_module_version": "1.5.0",
          "state": {
            "_view_name": "StyleView",
            "_model_name": "DescriptionStyleModel",
            "description_width": "",
            "_view_module": "@jupyter-widgets/base",
            "_model_module_version": "1.5.0",
            "_view_count": null,
            "_view_module_version": "1.2.0",
            "_model_module": "@jupyter-widgets/controls"
          }
        },
        "f9f28c02c9d74ad396790d58b20fa24c": {
          "model_module": "@jupyter-widgets/base",
          "model_name": "LayoutModel",
          "model_module_version": "1.2.0",
          "state": {
            "_view_name": "LayoutView",
            "grid_template_rows": null,
            "right": null,
            "justify_content": null,
            "_view_module": "@jupyter-widgets/base",
            "overflow": null,
            "_model_module_version": "1.2.0",
            "_view_count": null,
            "flex_flow": null,
            "width": null,
            "min_width": null,
            "border": null,
            "align_items": null,
            "bottom": null,
            "_model_module": "@jupyter-widgets/base",
            "top": null,
            "grid_column": null,
            "overflow_y": null,
            "overflow_x": null,
            "grid_auto_flow": null,
            "grid_area": null,
            "grid_template_columns": null,
            "flex": null,
            "_model_name": "LayoutModel",
            "justify_items": null,
            "grid_row": null,
            "max_height": null,
            "align_content": null,
            "visibility": null,
            "align_self": null,
            "height": null,
            "min_height": null,
            "padding": null,
            "grid_auto_rows": null,
            "grid_gap": null,
            "max_width": null,
            "order": null,
            "_view_module_version": "1.2.0",
            "grid_template_areas": null,
            "object_position": null,
            "object_fit": null,
            "grid_auto_columns": null,
            "margin": null,
            "display": null,
            "left": null
          }
        },
        "a7237fae0262453d8c8a689707e03f4a": {
          "model_module": "@jupyter-widgets/controls",
          "model_name": "HBoxModel",
          "model_module_version": "1.5.0",
          "state": {
            "_view_name": "HBoxView",
            "_dom_classes": [],
            "_model_name": "HBoxModel",
            "_view_module": "@jupyter-widgets/controls",
            "_model_module_version": "1.5.0",
            "_view_count": null,
            "_view_module_version": "1.5.0",
            "box_style": "",
            "layout": "IPY_MODEL_5dd2c914cc82436db65d23cba57758ba",
            "_model_module": "@jupyter-widgets/controls",
            "children": [
              "IPY_MODEL_f4302e84f7eb4f56a0b94b9b1b04ea2e",
              "IPY_MODEL_0d3b49079525422daaed5313d7cf0ab6",
              "IPY_MODEL_7656f0feea88426bb84c4f3dd00e113c"
            ]
          }
        },
        "5dd2c914cc82436db65d23cba57758ba": {
          "model_module": "@jupyter-widgets/base",
          "model_name": "LayoutModel",
          "model_module_version": "1.2.0",
          "state": {
            "_view_name": "LayoutView",
            "grid_template_rows": null,
            "right": null,
            "justify_content": null,
            "_view_module": "@jupyter-widgets/base",
            "overflow": null,
            "_model_module_version": "1.2.0",
            "_view_count": null,
            "flex_flow": null,
            "width": null,
            "min_width": null,
            "border": null,
            "align_items": null,
            "bottom": null,
            "_model_module": "@jupyter-widgets/base",
            "top": null,
            "grid_column": null,
            "overflow_y": null,
            "overflow_x": null,
            "grid_auto_flow": null,
            "grid_area": null,
            "grid_template_columns": null,
            "flex": null,
            "_model_name": "LayoutModel",
            "justify_items": null,
            "grid_row": null,
            "max_height": null,
            "align_content": null,
            "visibility": null,
            "align_self": null,
            "height": null,
            "min_height": null,
            "padding": null,
            "grid_auto_rows": null,
            "grid_gap": null,
            "max_width": null,
            "order": null,
            "_view_module_version": "1.2.0",
            "grid_template_areas": null,
            "object_position": null,
            "object_fit": null,
            "grid_auto_columns": null,
            "margin": null,
            "display": null,
            "left": null
          }
        },
        "f4302e84f7eb4f56a0b94b9b1b04ea2e": {
          "model_module": "@jupyter-widgets/controls",
          "model_name": "HTMLModel",
          "model_module_version": "1.5.0",
          "state": {
            "_view_name": "HTMLView",
            "style": "IPY_MODEL_b066929f0e8e4c408fac8d1a84cc5062",
            "_dom_classes": [],
            "description": "",
            "_model_name": "HTMLModel",
            "placeholder": "​",
            "_view_module": "@jupyter-widgets/controls",
            "_model_module_version": "1.5.0",
            "value": "Downloading: 100%",
            "_view_count": null,
            "_view_module_version": "1.5.0",
            "description_tooltip": null,
            "_model_module": "@jupyter-widgets/controls",
            "layout": "IPY_MODEL_9ee146da37684fe491041a9016de2c83"
          }
        },
        "0d3b49079525422daaed5313d7cf0ab6": {
          "model_module": "@jupyter-widgets/controls",
          "model_name": "FloatProgressModel",
          "model_module_version": "1.5.0",
          "state": {
            "_view_name": "ProgressView",
            "style": "IPY_MODEL_2e474358daea49768db32ed3edee61e9",
            "_dom_classes": [],
            "description": "",
            "_model_name": "FloatProgressModel",
            "bar_style": "success",
            "max": 440473133,
            "_view_module": "@jupyter-widgets/controls",
            "_model_module_version": "1.5.0",
            "value": 440473133,
            "_view_count": null,
            "_view_module_version": "1.5.0",
            "orientation": "horizontal",
            "min": 0,
            "description_tooltip": null,
            "_model_module": "@jupyter-widgets/controls",
            "layout": "IPY_MODEL_cd0a3f946ed54067aa2b6993f34daefb"
          }
        },
        "7656f0feea88426bb84c4f3dd00e113c": {
          "model_module": "@jupyter-widgets/controls",
          "model_name": "HTMLModel",
          "model_module_version": "1.5.0",
          "state": {
            "_view_name": "HTMLView",
            "style": "IPY_MODEL_0790bced0e834c4597b78eb0893ab5c9",
            "_dom_classes": [],
            "description": "",
            "_model_name": "HTMLModel",
            "placeholder": "​",
            "_view_module": "@jupyter-widgets/controls",
            "_model_module_version": "1.5.0",
            "value": " 420M/420M [00:15&lt;00:00, 25.2MB/s]",
            "_view_count": null,
            "_view_module_version": "1.5.0",
            "description_tooltip": null,
            "_model_module": "@jupyter-widgets/controls",
            "layout": "IPY_MODEL_8e9a47ecdaf84fa09a9214ecd82c680e"
          }
        },
        "b066929f0e8e4c408fac8d1a84cc5062": {
          "model_module": "@jupyter-widgets/controls",
          "model_name": "DescriptionStyleModel",
          "model_module_version": "1.5.0",
          "state": {
            "_view_name": "StyleView",
            "_model_name": "DescriptionStyleModel",
            "description_width": "",
            "_view_module": "@jupyter-widgets/base",
            "_model_module_version": "1.5.0",
            "_view_count": null,
            "_view_module_version": "1.2.0",
            "_model_module": "@jupyter-widgets/controls"
          }
        },
        "9ee146da37684fe491041a9016de2c83": {
          "model_module": "@jupyter-widgets/base",
          "model_name": "LayoutModel",
          "model_module_version": "1.2.0",
          "state": {
            "_view_name": "LayoutView",
            "grid_template_rows": null,
            "right": null,
            "justify_content": null,
            "_view_module": "@jupyter-widgets/base",
            "overflow": null,
            "_model_module_version": "1.2.0",
            "_view_count": null,
            "flex_flow": null,
            "width": null,
            "min_width": null,
            "border": null,
            "align_items": null,
            "bottom": null,
            "_model_module": "@jupyter-widgets/base",
            "top": null,
            "grid_column": null,
            "overflow_y": null,
            "overflow_x": null,
            "grid_auto_flow": null,
            "grid_area": null,
            "grid_template_columns": null,
            "flex": null,
            "_model_name": "LayoutModel",
            "justify_items": null,
            "grid_row": null,
            "max_height": null,
            "align_content": null,
            "visibility": null,
            "align_self": null,
            "height": null,
            "min_height": null,
            "padding": null,
            "grid_auto_rows": null,
            "grid_gap": null,
            "max_width": null,
            "order": null,
            "_view_module_version": "1.2.0",
            "grid_template_areas": null,
            "object_position": null,
            "object_fit": null,
            "grid_auto_columns": null,
            "margin": null,
            "display": null,
            "left": null
          }
        },
        "2e474358daea49768db32ed3edee61e9": {
          "model_module": "@jupyter-widgets/controls",
          "model_name": "ProgressStyleModel",
          "model_module_version": "1.5.0",
          "state": {
            "_view_name": "StyleView",
            "_model_name": "ProgressStyleModel",
            "description_width": "",
            "_view_module": "@jupyter-widgets/base",
            "_model_module_version": "1.5.0",
            "_view_count": null,
            "_view_module_version": "1.2.0",
            "bar_color": null,
            "_model_module": "@jupyter-widgets/controls"
          }
        },
        "cd0a3f946ed54067aa2b6993f34daefb": {
          "model_module": "@jupyter-widgets/base",
          "model_name": "LayoutModel",
          "model_module_version": "1.2.0",
          "state": {
            "_view_name": "LayoutView",
            "grid_template_rows": null,
            "right": null,
            "justify_content": null,
            "_view_module": "@jupyter-widgets/base",
            "overflow": null,
            "_model_module_version": "1.2.0",
            "_view_count": null,
            "flex_flow": null,
            "width": null,
            "min_width": null,
            "border": null,
            "align_items": null,
            "bottom": null,
            "_model_module": "@jupyter-widgets/base",
            "top": null,
            "grid_column": null,
            "overflow_y": null,
            "overflow_x": null,
            "grid_auto_flow": null,
            "grid_area": null,
            "grid_template_columns": null,
            "flex": null,
            "_model_name": "LayoutModel",
            "justify_items": null,
            "grid_row": null,
            "max_height": null,
            "align_content": null,
            "visibility": null,
            "align_self": null,
            "height": null,
            "min_height": null,
            "padding": null,
            "grid_auto_rows": null,
            "grid_gap": null,
            "max_width": null,
            "order": null,
            "_view_module_version": "1.2.0",
            "grid_template_areas": null,
            "object_position": null,
            "object_fit": null,
            "grid_auto_columns": null,
            "margin": null,
            "display": null,
            "left": null
          }
        },
        "0790bced0e834c4597b78eb0893ab5c9": {
          "model_module": "@jupyter-widgets/controls",
          "model_name": "DescriptionStyleModel",
          "model_module_version": "1.5.0",
          "state": {
            "_view_name": "StyleView",
            "_model_name": "DescriptionStyleModel",
            "description_width": "",
            "_view_module": "@jupyter-widgets/base",
            "_model_module_version": "1.5.0",
            "_view_count": null,
            "_view_module_version": "1.2.0",
            "_model_module": "@jupyter-widgets/controls"
          }
        },
        "8e9a47ecdaf84fa09a9214ecd82c680e": {
          "model_module": "@jupyter-widgets/base",
          "model_name": "LayoutModel",
          "model_module_version": "1.2.0",
          "state": {
            "_view_name": "LayoutView",
            "grid_template_rows": null,
            "right": null,
            "justify_content": null,
            "_view_module": "@jupyter-widgets/base",
            "overflow": null,
            "_model_module_version": "1.2.0",
            "_view_count": null,
            "flex_flow": null,
            "width": null,
            "min_width": null,
            "border": null,
            "align_items": null,
            "bottom": null,
            "_model_module": "@jupyter-widgets/base",
            "top": null,
            "grid_column": null,
            "overflow_y": null,
            "overflow_x": null,
            "grid_auto_flow": null,
            "grid_area": null,
            "grid_template_columns": null,
            "flex": null,
            "_model_name": "LayoutModel",
            "justify_items": null,
            "grid_row": null,
            "max_height": null,
            "align_content": null,
            "visibility": null,
            "align_self": null,
            "height": null,
            "min_height": null,
            "padding": null,
            "grid_auto_rows": null,
            "grid_gap": null,
            "max_width": null,
            "order": null,
            "_view_module_version": "1.2.0",
            "grid_template_areas": null,
            "object_position": null,
            "object_fit": null,
            "grid_auto_columns": null,
            "margin": null,
            "display": null,
            "left": null
          }
        },
        "5acb9bf1cd1a4e0db20d2418cc4614b9": {
          "model_module": "@jupyter-widgets/controls",
          "model_name": "HBoxModel",
          "model_module_version": "1.5.0",
          "state": {
            "_view_name": "HBoxView",
            "_dom_classes": [],
            "_model_name": "HBoxModel",
            "_view_module": "@jupyter-widgets/controls",
            "_model_module_version": "1.5.0",
            "_view_count": null,
            "_view_module_version": "1.5.0",
            "box_style": "",
            "layout": "IPY_MODEL_6678ea8c8a6d4b87830bed47fe24a118",
            "_model_module": "@jupyter-widgets/controls",
            "children": [
              "IPY_MODEL_c2075088e3de4b64a845c367377fc32a",
              "IPY_MODEL_bea42d8fe4bd45e7b042b99ba79aa8a2",
              "IPY_MODEL_9ea133d6b9d64c44b7220974f808de4f"
            ]
          }
        },
        "6678ea8c8a6d4b87830bed47fe24a118": {
          "model_module": "@jupyter-widgets/base",
          "model_name": "LayoutModel",
          "model_module_version": "1.2.0",
          "state": {
            "_view_name": "LayoutView",
            "grid_template_rows": null,
            "right": null,
            "justify_content": null,
            "_view_module": "@jupyter-widgets/base",
            "overflow": null,
            "_model_module_version": "1.2.0",
            "_view_count": null,
            "flex_flow": null,
            "width": null,
            "min_width": null,
            "border": null,
            "align_items": null,
            "bottom": null,
            "_model_module": "@jupyter-widgets/base",
            "top": null,
            "grid_column": null,
            "overflow_y": null,
            "overflow_x": null,
            "grid_auto_flow": null,
            "grid_area": null,
            "grid_template_columns": null,
            "flex": null,
            "_model_name": "LayoutModel",
            "justify_items": null,
            "grid_row": null,
            "max_height": null,
            "align_content": null,
            "visibility": null,
            "align_self": null,
            "height": null,
            "min_height": null,
            "padding": null,
            "grid_auto_rows": null,
            "grid_gap": null,
            "max_width": null,
            "order": null,
            "_view_module_version": "1.2.0",
            "grid_template_areas": null,
            "object_position": null,
            "object_fit": null,
            "grid_auto_columns": null,
            "margin": null,
            "display": null,
            "left": null
          }
        },
        "c2075088e3de4b64a845c367377fc32a": {
          "model_module": "@jupyter-widgets/controls",
          "model_name": "HTMLModel",
          "model_module_version": "1.5.0",
          "state": {
            "_view_name": "HTMLView",
            "style": "IPY_MODEL_9343d39bc8b0442bbe754cf3c9e4ecae",
            "_dom_classes": [],
            "description": "",
            "_model_name": "HTMLModel",
            "placeholder": "​",
            "_view_module": "@jupyter-widgets/controls",
            "_model_module_version": "1.5.0",
            "value": "Downloading: 100%",
            "_view_count": null,
            "_view_module_version": "1.5.0",
            "description_tooltip": null,
            "_model_module": "@jupyter-widgets/controls",
            "layout": "IPY_MODEL_fa06ed99fe43416eaed1b5e88f7c520c"
          }
        },
        "bea42d8fe4bd45e7b042b99ba79aa8a2": {
          "model_module": "@jupyter-widgets/controls",
          "model_name": "FloatProgressModel",
          "model_module_version": "1.5.0",
          "state": {
            "_view_name": "ProgressView",
            "style": "IPY_MODEL_41cafc4f8ff84ad894d247190134115c",
            "_dom_classes": [],
            "description": "",
            "_model_name": "FloatProgressModel",
            "bar_style": "success",
            "max": 28,
            "_view_module": "@jupyter-widgets/controls",
            "_model_module_version": "1.5.0",
            "value": 28,
            "_view_count": null,
            "_view_module_version": "1.5.0",
            "orientation": "horizontal",
            "min": 0,
            "description_tooltip": null,
            "_model_module": "@jupyter-widgets/controls",
            "layout": "IPY_MODEL_09e412ce85614e209b0d8bd6d0f5e906"
          }
        },
        "9ea133d6b9d64c44b7220974f808de4f": {
          "model_module": "@jupyter-widgets/controls",
          "model_name": "HTMLModel",
          "model_module_version": "1.5.0",
          "state": {
            "_view_name": "HTMLView",
            "style": "IPY_MODEL_439f036ed86642c18cb83084b255f837",
            "_dom_classes": [],
            "description": "",
            "_model_name": "HTMLModel",
            "placeholder": "​",
            "_view_module": "@jupyter-widgets/controls",
            "_model_module_version": "1.5.0",
            "value": " 28.0/28.0 [00:00&lt;00:00, 665B/s]",
            "_view_count": null,
            "_view_module_version": "1.5.0",
            "description_tooltip": null,
            "_model_module": "@jupyter-widgets/controls",
            "layout": "IPY_MODEL_c75b135106cd48209a0c5c52e7525296"
          }
        },
        "9343d39bc8b0442bbe754cf3c9e4ecae": {
          "model_module": "@jupyter-widgets/controls",
          "model_name": "DescriptionStyleModel",
          "model_module_version": "1.5.0",
          "state": {
            "_view_name": "StyleView",
            "_model_name": "DescriptionStyleModel",
            "description_width": "",
            "_view_module": "@jupyter-widgets/base",
            "_model_module_version": "1.5.0",
            "_view_count": null,
            "_view_module_version": "1.2.0",
            "_model_module": "@jupyter-widgets/controls"
          }
        },
        "fa06ed99fe43416eaed1b5e88f7c520c": {
          "model_module": "@jupyter-widgets/base",
          "model_name": "LayoutModel",
          "model_module_version": "1.2.0",
          "state": {
            "_view_name": "LayoutView",
            "grid_template_rows": null,
            "right": null,
            "justify_content": null,
            "_view_module": "@jupyter-widgets/base",
            "overflow": null,
            "_model_module_version": "1.2.0",
            "_view_count": null,
            "flex_flow": null,
            "width": null,
            "min_width": null,
            "border": null,
            "align_items": null,
            "bottom": null,
            "_model_module": "@jupyter-widgets/base",
            "top": null,
            "grid_column": null,
            "overflow_y": null,
            "overflow_x": null,
            "grid_auto_flow": null,
            "grid_area": null,
            "grid_template_columns": null,
            "flex": null,
            "_model_name": "LayoutModel",
            "justify_items": null,
            "grid_row": null,
            "max_height": null,
            "align_content": null,
            "visibility": null,
            "align_self": null,
            "height": null,
            "min_height": null,
            "padding": null,
            "grid_auto_rows": null,
            "grid_gap": null,
            "max_width": null,
            "order": null,
            "_view_module_version": "1.2.0",
            "grid_template_areas": null,
            "object_position": null,
            "object_fit": null,
            "grid_auto_columns": null,
            "margin": null,
            "display": null,
            "left": null
          }
        },
        "41cafc4f8ff84ad894d247190134115c": {
          "model_module": "@jupyter-widgets/controls",
          "model_name": "ProgressStyleModel",
          "model_module_version": "1.5.0",
          "state": {
            "_view_name": "StyleView",
            "_model_name": "ProgressStyleModel",
            "description_width": "",
            "_view_module": "@jupyter-widgets/base",
            "_model_module_version": "1.5.0",
            "_view_count": null,
            "_view_module_version": "1.2.0",
            "bar_color": null,
            "_model_module": "@jupyter-widgets/controls"
          }
        },
        "09e412ce85614e209b0d8bd6d0f5e906": {
          "model_module": "@jupyter-widgets/base",
          "model_name": "LayoutModel",
          "model_module_version": "1.2.0",
          "state": {
            "_view_name": "LayoutView",
            "grid_template_rows": null,
            "right": null,
            "justify_content": null,
            "_view_module": "@jupyter-widgets/base",
            "overflow": null,
            "_model_module_version": "1.2.0",
            "_view_count": null,
            "flex_flow": null,
            "width": null,
            "min_width": null,
            "border": null,
            "align_items": null,
            "bottom": null,
            "_model_module": "@jupyter-widgets/base",
            "top": null,
            "grid_column": null,
            "overflow_y": null,
            "overflow_x": null,
            "grid_auto_flow": null,
            "grid_area": null,
            "grid_template_columns": null,
            "flex": null,
            "_model_name": "LayoutModel",
            "justify_items": null,
            "grid_row": null,
            "max_height": null,
            "align_content": null,
            "visibility": null,
            "align_self": null,
            "height": null,
            "min_height": null,
            "padding": null,
            "grid_auto_rows": null,
            "grid_gap": null,
            "max_width": null,
            "order": null,
            "_view_module_version": "1.2.0",
            "grid_template_areas": null,
            "object_position": null,
            "object_fit": null,
            "grid_auto_columns": null,
            "margin": null,
            "display": null,
            "left": null
          }
        },
        "439f036ed86642c18cb83084b255f837": {
          "model_module": "@jupyter-widgets/controls",
          "model_name": "DescriptionStyleModel",
          "model_module_version": "1.5.0",
          "state": {
            "_view_name": "StyleView",
            "_model_name": "DescriptionStyleModel",
            "description_width": "",
            "_view_module": "@jupyter-widgets/base",
            "_model_module_version": "1.5.0",
            "_view_count": null,
            "_view_module_version": "1.2.0",
            "_model_module": "@jupyter-widgets/controls"
          }
        },
        "c75b135106cd48209a0c5c52e7525296": {
          "model_module": "@jupyter-widgets/base",
          "model_name": "LayoutModel",
          "model_module_version": "1.2.0",
          "state": {
            "_view_name": "LayoutView",
            "grid_template_rows": null,
            "right": null,
            "justify_content": null,
            "_view_module": "@jupyter-widgets/base",
            "overflow": null,
            "_model_module_version": "1.2.0",
            "_view_count": null,
            "flex_flow": null,
            "width": null,
            "min_width": null,
            "border": null,
            "align_items": null,
            "bottom": null,
            "_model_module": "@jupyter-widgets/base",
            "top": null,
            "grid_column": null,
            "overflow_y": null,
            "overflow_x": null,
            "grid_auto_flow": null,
            "grid_area": null,
            "grid_template_columns": null,
            "flex": null,
            "_model_name": "LayoutModel",
            "justify_items": null,
            "grid_row": null,
            "max_height": null,
            "align_content": null,
            "visibility": null,
            "align_self": null,
            "height": null,
            "min_height": null,
            "padding": null,
            "grid_auto_rows": null,
            "grid_gap": null,
            "max_width": null,
            "order": null,
            "_view_module_version": "1.2.0",
            "grid_template_areas": null,
            "object_position": null,
            "object_fit": null,
            "grid_auto_columns": null,
            "margin": null,
            "display": null,
            "left": null
          }
        },
        "0e9493e18cbe4e52a70684e13ef1c324": {
          "model_module": "@jupyter-widgets/controls",
          "model_name": "HBoxModel",
          "model_module_version": "1.5.0",
          "state": {
            "_view_name": "HBoxView",
            "_dom_classes": [],
            "_model_name": "HBoxModel",
            "_view_module": "@jupyter-widgets/controls",
            "_model_module_version": "1.5.0",
            "_view_count": null,
            "_view_module_version": "1.5.0",
            "box_style": "",
            "layout": "IPY_MODEL_044ed2c1b57a46f7824ee1f0a1883973",
            "_model_module": "@jupyter-widgets/controls",
            "children": [
              "IPY_MODEL_c6e9ae32e42145cdbc86e5353216605e",
              "IPY_MODEL_95381ef4b1664a379276a7dc00ae70d9",
              "IPY_MODEL_c318c735278a46a48d13bdbccc5fd14c"
            ]
          }
        },
        "044ed2c1b57a46f7824ee1f0a1883973": {
          "model_module": "@jupyter-widgets/base",
          "model_name": "LayoutModel",
          "model_module_version": "1.2.0",
          "state": {
            "_view_name": "LayoutView",
            "grid_template_rows": null,
            "right": null,
            "justify_content": null,
            "_view_module": "@jupyter-widgets/base",
            "overflow": null,
            "_model_module_version": "1.2.0",
            "_view_count": null,
            "flex_flow": null,
            "width": null,
            "min_width": null,
            "border": null,
            "align_items": null,
            "bottom": null,
            "_model_module": "@jupyter-widgets/base",
            "top": null,
            "grid_column": null,
            "overflow_y": null,
            "overflow_x": null,
            "grid_auto_flow": null,
            "grid_area": null,
            "grid_template_columns": null,
            "flex": null,
            "_model_name": "LayoutModel",
            "justify_items": null,
            "grid_row": null,
            "max_height": null,
            "align_content": null,
            "visibility": null,
            "align_self": null,
            "height": null,
            "min_height": null,
            "padding": null,
            "grid_auto_rows": null,
            "grid_gap": null,
            "max_width": null,
            "order": null,
            "_view_module_version": "1.2.0",
            "grid_template_areas": null,
            "object_position": null,
            "object_fit": null,
            "grid_auto_columns": null,
            "margin": null,
            "display": null,
            "left": null
          }
        },
        "c6e9ae32e42145cdbc86e5353216605e": {
          "model_module": "@jupyter-widgets/controls",
          "model_name": "HTMLModel",
          "model_module_version": "1.5.0",
          "state": {
            "_view_name": "HTMLView",
            "style": "IPY_MODEL_13209af923634d52b0b72e4373c2ed5f",
            "_dom_classes": [],
            "description": "",
            "_model_name": "HTMLModel",
            "placeholder": "​",
            "_view_module": "@jupyter-widgets/controls",
            "_model_module_version": "1.5.0",
            "value": "Downloading: 100%",
            "_view_count": null,
            "_view_module_version": "1.5.0",
            "description_tooltip": null,
            "_model_module": "@jupyter-widgets/controls",
            "layout": "IPY_MODEL_fe781aa627cc4c7ea2b0355c36001c6b"
          }
        },
        "95381ef4b1664a379276a7dc00ae70d9": {
          "model_module": "@jupyter-widgets/controls",
          "model_name": "FloatProgressModel",
          "model_module_version": "1.5.0",
          "state": {
            "_view_name": "ProgressView",
            "style": "IPY_MODEL_eac20e85eaeb4197aafbf9f7dc8869af",
            "_dom_classes": [],
            "description": "",
            "_model_name": "FloatProgressModel",
            "bar_style": "success",
            "max": 231508,
            "_view_module": "@jupyter-widgets/controls",
            "_model_module_version": "1.5.0",
            "value": 231508,
            "_view_count": null,
            "_view_module_version": "1.5.0",
            "orientation": "horizontal",
            "min": 0,
            "description_tooltip": null,
            "_model_module": "@jupyter-widgets/controls",
            "layout": "IPY_MODEL_8efe84ffaee74a0f88b72c389ec14581"
          }
        },
        "c318c735278a46a48d13bdbccc5fd14c": {
          "model_module": "@jupyter-widgets/controls",
          "model_name": "HTMLModel",
          "model_module_version": "1.5.0",
          "state": {
            "_view_name": "HTMLView",
            "style": "IPY_MODEL_1119b54e2b04420bb9b827cf3d536542",
            "_dom_classes": [],
            "description": "",
            "_model_name": "HTMLModel",
            "placeholder": "​",
            "_view_module": "@jupyter-widgets/controls",
            "_model_module_version": "1.5.0",
            "value": " 226k/226k [00:00&lt;00:00, 975kB/s]",
            "_view_count": null,
            "_view_module_version": "1.5.0",
            "description_tooltip": null,
            "_model_module": "@jupyter-widgets/controls",
            "layout": "IPY_MODEL_67f8c7294d84477ca4272194ee06b852"
          }
        },
        "13209af923634d52b0b72e4373c2ed5f": {
          "model_module": "@jupyter-widgets/controls",
          "model_name": "DescriptionStyleModel",
          "model_module_version": "1.5.0",
          "state": {
            "_view_name": "StyleView",
            "_model_name": "DescriptionStyleModel",
            "description_width": "",
            "_view_module": "@jupyter-widgets/base",
            "_model_module_version": "1.5.0",
            "_view_count": null,
            "_view_module_version": "1.2.0",
            "_model_module": "@jupyter-widgets/controls"
          }
        },
        "fe781aa627cc4c7ea2b0355c36001c6b": {
          "model_module": "@jupyter-widgets/base",
          "model_name": "LayoutModel",
          "model_module_version": "1.2.0",
          "state": {
            "_view_name": "LayoutView",
            "grid_template_rows": null,
            "right": null,
            "justify_content": null,
            "_view_module": "@jupyter-widgets/base",
            "overflow": null,
            "_model_module_version": "1.2.0",
            "_view_count": null,
            "flex_flow": null,
            "width": null,
            "min_width": null,
            "border": null,
            "align_items": null,
            "bottom": null,
            "_model_module": "@jupyter-widgets/base",
            "top": null,
            "grid_column": null,
            "overflow_y": null,
            "overflow_x": null,
            "grid_auto_flow": null,
            "grid_area": null,
            "grid_template_columns": null,
            "flex": null,
            "_model_name": "LayoutModel",
            "justify_items": null,
            "grid_row": null,
            "max_height": null,
            "align_content": null,
            "visibility": null,
            "align_self": null,
            "height": null,
            "min_height": null,
            "padding": null,
            "grid_auto_rows": null,
            "grid_gap": null,
            "max_width": null,
            "order": null,
            "_view_module_version": "1.2.0",
            "grid_template_areas": null,
            "object_position": null,
            "object_fit": null,
            "grid_auto_columns": null,
            "margin": null,
            "display": null,
            "left": null
          }
        },
        "eac20e85eaeb4197aafbf9f7dc8869af": {
          "model_module": "@jupyter-widgets/controls",
          "model_name": "ProgressStyleModel",
          "model_module_version": "1.5.0",
          "state": {
            "_view_name": "StyleView",
            "_model_name": "ProgressStyleModel",
            "description_width": "",
            "_view_module": "@jupyter-widgets/base",
            "_model_module_version": "1.5.0",
            "_view_count": null,
            "_view_module_version": "1.2.0",
            "bar_color": null,
            "_model_module": "@jupyter-widgets/controls"
          }
        },
        "8efe84ffaee74a0f88b72c389ec14581": {
          "model_module": "@jupyter-widgets/base",
          "model_name": "LayoutModel",
          "model_module_version": "1.2.0",
          "state": {
            "_view_name": "LayoutView",
            "grid_template_rows": null,
            "right": null,
            "justify_content": null,
            "_view_module": "@jupyter-widgets/base",
            "overflow": null,
            "_model_module_version": "1.2.0",
            "_view_count": null,
            "flex_flow": null,
            "width": null,
            "min_width": null,
            "border": null,
            "align_items": null,
            "bottom": null,
            "_model_module": "@jupyter-widgets/base",
            "top": null,
            "grid_column": null,
            "overflow_y": null,
            "overflow_x": null,
            "grid_auto_flow": null,
            "grid_area": null,
            "grid_template_columns": null,
            "flex": null,
            "_model_name": "LayoutModel",
            "justify_items": null,
            "grid_row": null,
            "max_height": null,
            "align_content": null,
            "visibility": null,
            "align_self": null,
            "height": null,
            "min_height": null,
            "padding": null,
            "grid_auto_rows": null,
            "grid_gap": null,
            "max_width": null,
            "order": null,
            "_view_module_version": "1.2.0",
            "grid_template_areas": null,
            "object_position": null,
            "object_fit": null,
            "grid_auto_columns": null,
            "margin": null,
            "display": null,
            "left": null
          }
        },
        "1119b54e2b04420bb9b827cf3d536542": {
          "model_module": "@jupyter-widgets/controls",
          "model_name": "DescriptionStyleModel",
          "model_module_version": "1.5.0",
          "state": {
            "_view_name": "StyleView",
            "_model_name": "DescriptionStyleModel",
            "description_width": "",
            "_view_module": "@jupyter-widgets/base",
            "_model_module_version": "1.5.0",
            "_view_count": null,
            "_view_module_version": "1.2.0",
            "_model_module": "@jupyter-widgets/controls"
          }
        },
        "67f8c7294d84477ca4272194ee06b852": {
          "model_module": "@jupyter-widgets/base",
          "model_name": "LayoutModel",
          "model_module_version": "1.2.0",
          "state": {
            "_view_name": "LayoutView",
            "grid_template_rows": null,
            "right": null,
            "justify_content": null,
            "_view_module": "@jupyter-widgets/base",
            "overflow": null,
            "_model_module_version": "1.2.0",
            "_view_count": null,
            "flex_flow": null,
            "width": null,
            "min_width": null,
            "border": null,
            "align_items": null,
            "bottom": null,
            "_model_module": "@jupyter-widgets/base",
            "top": null,
            "grid_column": null,
            "overflow_y": null,
            "overflow_x": null,
            "grid_auto_flow": null,
            "grid_area": null,
            "grid_template_columns": null,
            "flex": null,
            "_model_name": "LayoutModel",
            "justify_items": null,
            "grid_row": null,
            "max_height": null,
            "align_content": null,
            "visibility": null,
            "align_self": null,
            "height": null,
            "min_height": null,
            "padding": null,
            "grid_auto_rows": null,
            "grid_gap": null,
            "max_width": null,
            "order": null,
            "_view_module_version": "1.2.0",
            "grid_template_areas": null,
            "object_position": null,
            "object_fit": null,
            "grid_auto_columns": null,
            "margin": null,
            "display": null,
            "left": null
          }
        },
        "8bcd711fb557437c8654b48fc9b4129d": {
          "model_module": "@jupyter-widgets/controls",
          "model_name": "HBoxModel",
          "model_module_version": "1.5.0",
          "state": {
            "_view_name": "HBoxView",
            "_dom_classes": [],
            "_model_name": "HBoxModel",
            "_view_module": "@jupyter-widgets/controls",
            "_model_module_version": "1.5.0",
            "_view_count": null,
            "_view_module_version": "1.5.0",
            "box_style": "",
            "layout": "IPY_MODEL_5c51ac4005814970b3c11890b569f4b8",
            "_model_module": "@jupyter-widgets/controls",
            "children": [
              "IPY_MODEL_755d711aabfa4d02ad681d4cb373e2fb",
              "IPY_MODEL_2dd9c7b6426a4bf390a19503e92658cc",
              "IPY_MODEL_0281378c3dbe41e8a28ed207b38d0043"
            ]
          }
        },
        "5c51ac4005814970b3c11890b569f4b8": {
          "model_module": "@jupyter-widgets/base",
          "model_name": "LayoutModel",
          "model_module_version": "1.2.0",
          "state": {
            "_view_name": "LayoutView",
            "grid_template_rows": null,
            "right": null,
            "justify_content": null,
            "_view_module": "@jupyter-widgets/base",
            "overflow": null,
            "_model_module_version": "1.2.0",
            "_view_count": null,
            "flex_flow": null,
            "width": null,
            "min_width": null,
            "border": null,
            "align_items": null,
            "bottom": null,
            "_model_module": "@jupyter-widgets/base",
            "top": null,
            "grid_column": null,
            "overflow_y": null,
            "overflow_x": null,
            "grid_auto_flow": null,
            "grid_area": null,
            "grid_template_columns": null,
            "flex": null,
            "_model_name": "LayoutModel",
            "justify_items": null,
            "grid_row": null,
            "max_height": null,
            "align_content": null,
            "visibility": null,
            "align_self": null,
            "height": null,
            "min_height": null,
            "padding": null,
            "grid_auto_rows": null,
            "grid_gap": null,
            "max_width": null,
            "order": null,
            "_view_module_version": "1.2.0",
            "grid_template_areas": null,
            "object_position": null,
            "object_fit": null,
            "grid_auto_columns": null,
            "margin": null,
            "display": null,
            "left": null
          }
        },
        "755d711aabfa4d02ad681d4cb373e2fb": {
          "model_module": "@jupyter-widgets/controls",
          "model_name": "HTMLModel",
          "model_module_version": "1.5.0",
          "state": {
            "_view_name": "HTMLView",
            "style": "IPY_MODEL_3cda73db5a324a9b9eae505a7480570a",
            "_dom_classes": [],
            "description": "",
            "_model_name": "HTMLModel",
            "placeholder": "​",
            "_view_module": "@jupyter-widgets/controls",
            "_model_module_version": "1.5.0",
            "value": "Downloading: 100%",
            "_view_count": null,
            "_view_module_version": "1.5.0",
            "description_tooltip": null,
            "_model_module": "@jupyter-widgets/controls",
            "layout": "IPY_MODEL_27521d164e534f00991f19baa7618cbd"
          }
        },
        "2dd9c7b6426a4bf390a19503e92658cc": {
          "model_module": "@jupyter-widgets/controls",
          "model_name": "FloatProgressModel",
          "model_module_version": "1.5.0",
          "state": {
            "_view_name": "ProgressView",
            "style": "IPY_MODEL_e99ff3a2e9124e6baf5693d741380612",
            "_dom_classes": [],
            "description": "",
            "_model_name": "FloatProgressModel",
            "bar_style": "success",
            "max": 466062,
            "_view_module": "@jupyter-widgets/controls",
            "_model_module_version": "1.5.0",
            "value": 466062,
            "_view_count": null,
            "_view_module_version": "1.5.0",
            "orientation": "horizontal",
            "min": 0,
            "description_tooltip": null,
            "_model_module": "@jupyter-widgets/controls",
            "layout": "IPY_MODEL_061f12005cd541f188ff86495dabed93"
          }
        },
        "0281378c3dbe41e8a28ed207b38d0043": {
          "model_module": "@jupyter-widgets/controls",
          "model_name": "HTMLModel",
          "model_module_version": "1.5.0",
          "state": {
            "_view_name": "HTMLView",
            "style": "IPY_MODEL_999e336451fc4b9ca1ed7cc2d97afd23",
            "_dom_classes": [],
            "description": "",
            "_model_name": "HTMLModel",
            "placeholder": "​",
            "_view_module": "@jupyter-widgets/controls",
            "_model_module_version": "1.5.0",
            "value": " 455k/455k [00:00&lt;00:00, 1.00MB/s]",
            "_view_count": null,
            "_view_module_version": "1.5.0",
            "description_tooltip": null,
            "_model_module": "@jupyter-widgets/controls",
            "layout": "IPY_MODEL_93a2eb95728c4fb2909b1ce364edba66"
          }
        },
        "3cda73db5a324a9b9eae505a7480570a": {
          "model_module": "@jupyter-widgets/controls",
          "model_name": "DescriptionStyleModel",
          "model_module_version": "1.5.0",
          "state": {
            "_view_name": "StyleView",
            "_model_name": "DescriptionStyleModel",
            "description_width": "",
            "_view_module": "@jupyter-widgets/base",
            "_model_module_version": "1.5.0",
            "_view_count": null,
            "_view_module_version": "1.2.0",
            "_model_module": "@jupyter-widgets/controls"
          }
        },
        "27521d164e534f00991f19baa7618cbd": {
          "model_module": "@jupyter-widgets/base",
          "model_name": "LayoutModel",
          "model_module_version": "1.2.0",
          "state": {
            "_view_name": "LayoutView",
            "grid_template_rows": null,
            "right": null,
            "justify_content": null,
            "_view_module": "@jupyter-widgets/base",
            "overflow": null,
            "_model_module_version": "1.2.0",
            "_view_count": null,
            "flex_flow": null,
            "width": null,
            "min_width": null,
            "border": null,
            "align_items": null,
            "bottom": null,
            "_model_module": "@jupyter-widgets/base",
            "top": null,
            "grid_column": null,
            "overflow_y": null,
            "overflow_x": null,
            "grid_auto_flow": null,
            "grid_area": null,
            "grid_template_columns": null,
            "flex": null,
            "_model_name": "LayoutModel",
            "justify_items": null,
            "grid_row": null,
            "max_height": null,
            "align_content": null,
            "visibility": null,
            "align_self": null,
            "height": null,
            "min_height": null,
            "padding": null,
            "grid_auto_rows": null,
            "grid_gap": null,
            "max_width": null,
            "order": null,
            "_view_module_version": "1.2.0",
            "grid_template_areas": null,
            "object_position": null,
            "object_fit": null,
            "grid_auto_columns": null,
            "margin": null,
            "display": null,
            "left": null
          }
        },
        "e99ff3a2e9124e6baf5693d741380612": {
          "model_module": "@jupyter-widgets/controls",
          "model_name": "ProgressStyleModel",
          "model_module_version": "1.5.0",
          "state": {
            "_view_name": "StyleView",
            "_model_name": "ProgressStyleModel",
            "description_width": "",
            "_view_module": "@jupyter-widgets/base",
            "_model_module_version": "1.5.0",
            "_view_count": null,
            "_view_module_version": "1.2.0",
            "bar_color": null,
            "_model_module": "@jupyter-widgets/controls"
          }
        },
        "061f12005cd541f188ff86495dabed93": {
          "model_module": "@jupyter-widgets/base",
          "model_name": "LayoutModel",
          "model_module_version": "1.2.0",
          "state": {
            "_view_name": "LayoutView",
            "grid_template_rows": null,
            "right": null,
            "justify_content": null,
            "_view_module": "@jupyter-widgets/base",
            "overflow": null,
            "_model_module_version": "1.2.0",
            "_view_count": null,
            "flex_flow": null,
            "width": null,
            "min_width": null,
            "border": null,
            "align_items": null,
            "bottom": null,
            "_model_module": "@jupyter-widgets/base",
            "top": null,
            "grid_column": null,
            "overflow_y": null,
            "overflow_x": null,
            "grid_auto_flow": null,
            "grid_area": null,
            "grid_template_columns": null,
            "flex": null,
            "_model_name": "LayoutModel",
            "justify_items": null,
            "grid_row": null,
            "max_height": null,
            "align_content": null,
            "visibility": null,
            "align_self": null,
            "height": null,
            "min_height": null,
            "padding": null,
            "grid_auto_rows": null,
            "grid_gap": null,
            "max_width": null,
            "order": null,
            "_view_module_version": "1.2.0",
            "grid_template_areas": null,
            "object_position": null,
            "object_fit": null,
            "grid_auto_columns": null,
            "margin": null,
            "display": null,
            "left": null
          }
        },
        "999e336451fc4b9ca1ed7cc2d97afd23": {
          "model_module": "@jupyter-widgets/controls",
          "model_name": "DescriptionStyleModel",
          "model_module_version": "1.5.0",
          "state": {
            "_view_name": "StyleView",
            "_model_name": "DescriptionStyleModel",
            "description_width": "",
            "_view_module": "@jupyter-widgets/base",
            "_model_module_version": "1.5.0",
            "_view_count": null,
            "_view_module_version": "1.2.0",
            "_model_module": "@jupyter-widgets/controls"
          }
        },
        "93a2eb95728c4fb2909b1ce364edba66": {
          "model_module": "@jupyter-widgets/base",
          "model_name": "LayoutModel",
          "model_module_version": "1.2.0",
          "state": {
            "_view_name": "LayoutView",
            "grid_template_rows": null,
            "right": null,
            "justify_content": null,
            "_view_module": "@jupyter-widgets/base",
            "overflow": null,
            "_model_module_version": "1.2.0",
            "_view_count": null,
            "flex_flow": null,
            "width": null,
            "min_width": null,
            "border": null,
            "align_items": null,
            "bottom": null,
            "_model_module": "@jupyter-widgets/base",
            "top": null,
            "grid_column": null,
            "overflow_y": null,
            "overflow_x": null,
            "grid_auto_flow": null,
            "grid_area": null,
            "grid_template_columns": null,
            "flex": null,
            "_model_name": "LayoutModel",
            "justify_items": null,
            "grid_row": null,
            "max_height": null,
            "align_content": null,
            "visibility": null,
            "align_self": null,
            "height": null,
            "min_height": null,
            "padding": null,
            "grid_auto_rows": null,
            "grid_gap": null,
            "max_width": null,
            "order": null,
            "_view_module_version": "1.2.0",
            "grid_template_areas": null,
            "object_position": null,
            "object_fit": null,
            "grid_auto_columns": null,
            "margin": null,
            "display": null,
            "left": null
          }
        },
        "dd4a11a7bb0a45ff97ae3387f04a675f": {
          "model_module": "@jupyter-widgets/controls",
          "model_name": "HBoxModel",
          "model_module_version": "1.5.0",
          "state": {
            "_view_name": "HBoxView",
            "_dom_classes": [],
            "_model_name": "HBoxModel",
            "_view_module": "@jupyter-widgets/controls",
            "_model_module_version": "1.5.0",
            "_view_count": null,
            "_view_module_version": "1.5.0",
            "box_style": "",
            "layout": "IPY_MODEL_ad90cb8ce8c74d55ac266a5e0023531b",
            "_model_module": "@jupyter-widgets/controls",
            "children": [
              "IPY_MODEL_91c174746c634cb68a0877e962198066",
              "IPY_MODEL_f9b4024489f24ca1b3926a0c21f33b4e",
              "IPY_MODEL_2b95de2c0e6f4eab84e04bd619ca28f9"
            ]
          }
        },
        "ad90cb8ce8c74d55ac266a5e0023531b": {
          "model_module": "@jupyter-widgets/base",
          "model_name": "LayoutModel",
          "model_module_version": "1.2.0",
          "state": {
            "_view_name": "LayoutView",
            "grid_template_rows": null,
            "right": null,
            "justify_content": null,
            "_view_module": "@jupyter-widgets/base",
            "overflow": null,
            "_model_module_version": "1.2.0",
            "_view_count": null,
            "flex_flow": null,
            "width": null,
            "min_width": null,
            "border": null,
            "align_items": null,
            "bottom": null,
            "_model_module": "@jupyter-widgets/base",
            "top": null,
            "grid_column": null,
            "overflow_y": null,
            "overflow_x": null,
            "grid_auto_flow": null,
            "grid_area": null,
            "grid_template_columns": null,
            "flex": null,
            "_model_name": "LayoutModel",
            "justify_items": null,
            "grid_row": null,
            "max_height": null,
            "align_content": null,
            "visibility": null,
            "align_self": null,
            "height": null,
            "min_height": null,
            "padding": null,
            "grid_auto_rows": null,
            "grid_gap": null,
            "max_width": null,
            "order": null,
            "_view_module_version": "1.2.0",
            "grid_template_areas": null,
            "object_position": null,
            "object_fit": null,
            "grid_auto_columns": null,
            "margin": null,
            "display": null,
            "left": null
          }
        },
        "91c174746c634cb68a0877e962198066": {
          "model_module": "@jupyter-widgets/controls",
          "model_name": "HTMLModel",
          "model_module_version": "1.5.0",
          "state": {
            "_view_name": "HTMLView",
            "style": "IPY_MODEL_bf51d9832a5d4d359306771eb8121a4e",
            "_dom_classes": [],
            "description": "",
            "_model_name": "HTMLModel",
            "placeholder": "​",
            "_view_module": "@jupyter-widgets/controls",
            "_model_module_version": "1.5.0",
            "value": "Epoch: 100%",
            "_view_count": null,
            "_view_module_version": "1.5.0",
            "description_tooltip": null,
            "_model_module": "@jupyter-widgets/controls",
            "layout": "IPY_MODEL_5758aa38e520441891c318fc96795e1f"
          }
        },
        "f9b4024489f24ca1b3926a0c21f33b4e": {
          "model_module": "@jupyter-widgets/controls",
          "model_name": "FloatProgressModel",
          "model_module_version": "1.5.0",
          "state": {
            "_view_name": "ProgressView",
            "style": "IPY_MODEL_3f009f50aab840cca006db23d455037d",
            "_dom_classes": [],
            "description": "",
            "_model_name": "FloatProgressModel",
            "bar_style": "success",
            "max": 1,
            "_view_module": "@jupyter-widgets/controls",
            "_model_module_version": "1.5.0",
            "value": 1,
            "_view_count": null,
            "_view_module_version": "1.5.0",
            "orientation": "horizontal",
            "min": 0,
            "description_tooltip": null,
            "_model_module": "@jupyter-widgets/controls",
            "layout": "IPY_MODEL_e7f4db7e36a3422aac417a2453f637f3"
          }
        },
        "2b95de2c0e6f4eab84e04bd619ca28f9": {
          "model_module": "@jupyter-widgets/controls",
          "model_name": "HTMLModel",
          "model_module_version": "1.5.0",
          "state": {
            "_view_name": "HTMLView",
            "style": "IPY_MODEL_095f5f9b43bb43ecb24c8bd2b8ac60a3",
            "_dom_classes": [],
            "description": "",
            "_model_name": "HTMLModel",
            "placeholder": "​",
            "_view_module": "@jupyter-widgets/controls",
            "_model_module_version": "1.5.0",
            "value": " 1/1 [03:06&lt;00:00, 186.88s/it]",
            "_view_count": null,
            "_view_module_version": "1.5.0",
            "description_tooltip": null,
            "_model_module": "@jupyter-widgets/controls",
            "layout": "IPY_MODEL_64b1ae5476f94d0385f17cf70fcf1ac8"
          }
        },
        "bf51d9832a5d4d359306771eb8121a4e": {
          "model_module": "@jupyter-widgets/controls",
          "model_name": "DescriptionStyleModel",
          "model_module_version": "1.5.0",
          "state": {
            "_view_name": "StyleView",
            "_model_name": "DescriptionStyleModel",
            "description_width": "",
            "_view_module": "@jupyter-widgets/base",
            "_model_module_version": "1.5.0",
            "_view_count": null,
            "_view_module_version": "1.2.0",
            "_model_module": "@jupyter-widgets/controls"
          }
        },
        "5758aa38e520441891c318fc96795e1f": {
          "model_module": "@jupyter-widgets/base",
          "model_name": "LayoutModel",
          "model_module_version": "1.2.0",
          "state": {
            "_view_name": "LayoutView",
            "grid_template_rows": null,
            "right": null,
            "justify_content": null,
            "_view_module": "@jupyter-widgets/base",
            "overflow": null,
            "_model_module_version": "1.2.0",
            "_view_count": null,
            "flex_flow": null,
            "width": null,
            "min_width": null,
            "border": null,
            "align_items": null,
            "bottom": null,
            "_model_module": "@jupyter-widgets/base",
            "top": null,
            "grid_column": null,
            "overflow_y": null,
            "overflow_x": null,
            "grid_auto_flow": null,
            "grid_area": null,
            "grid_template_columns": null,
            "flex": null,
            "_model_name": "LayoutModel",
            "justify_items": null,
            "grid_row": null,
            "max_height": null,
            "align_content": null,
            "visibility": null,
            "align_self": null,
            "height": null,
            "min_height": null,
            "padding": null,
            "grid_auto_rows": null,
            "grid_gap": null,
            "max_width": null,
            "order": null,
            "_view_module_version": "1.2.0",
            "grid_template_areas": null,
            "object_position": null,
            "object_fit": null,
            "grid_auto_columns": null,
            "margin": null,
            "display": null,
            "left": null
          }
        },
        "3f009f50aab840cca006db23d455037d": {
          "model_module": "@jupyter-widgets/controls",
          "model_name": "ProgressStyleModel",
          "model_module_version": "1.5.0",
          "state": {
            "_view_name": "StyleView",
            "_model_name": "ProgressStyleModel",
            "description_width": "",
            "_view_module": "@jupyter-widgets/base",
            "_model_module_version": "1.5.0",
            "_view_count": null,
            "_view_module_version": "1.2.0",
            "bar_color": null,
            "_model_module": "@jupyter-widgets/controls"
          }
        },
        "e7f4db7e36a3422aac417a2453f637f3": {
          "model_module": "@jupyter-widgets/base",
          "model_name": "LayoutModel",
          "model_module_version": "1.2.0",
          "state": {
            "_view_name": "LayoutView",
            "grid_template_rows": null,
            "right": null,
            "justify_content": null,
            "_view_module": "@jupyter-widgets/base",
            "overflow": null,
            "_model_module_version": "1.2.0",
            "_view_count": null,
            "flex_flow": null,
            "width": null,
            "min_width": null,
            "border": null,
            "align_items": null,
            "bottom": null,
            "_model_module": "@jupyter-widgets/base",
            "top": null,
            "grid_column": null,
            "overflow_y": null,
            "overflow_x": null,
            "grid_auto_flow": null,
            "grid_area": null,
            "grid_template_columns": null,
            "flex": null,
            "_model_name": "LayoutModel",
            "justify_items": null,
            "grid_row": null,
            "max_height": null,
            "align_content": null,
            "visibility": null,
            "align_self": null,
            "height": null,
            "min_height": null,
            "padding": null,
            "grid_auto_rows": null,
            "grid_gap": null,
            "max_width": null,
            "order": null,
            "_view_module_version": "1.2.0",
            "grid_template_areas": null,
            "object_position": null,
            "object_fit": null,
            "grid_auto_columns": null,
            "margin": null,
            "display": null,
            "left": null
          }
        },
        "095f5f9b43bb43ecb24c8bd2b8ac60a3": {
          "model_module": "@jupyter-widgets/controls",
          "model_name": "DescriptionStyleModel",
          "model_module_version": "1.5.0",
          "state": {
            "_view_name": "StyleView",
            "_model_name": "DescriptionStyleModel",
            "description_width": "",
            "_view_module": "@jupyter-widgets/base",
            "_model_module_version": "1.5.0",
            "_view_count": null,
            "_view_module_version": "1.2.0",
            "_model_module": "@jupyter-widgets/controls"
          }
        },
        "64b1ae5476f94d0385f17cf70fcf1ac8": {
          "model_module": "@jupyter-widgets/base",
          "model_name": "LayoutModel",
          "model_module_version": "1.2.0",
          "state": {
            "_view_name": "LayoutView",
            "grid_template_rows": null,
            "right": null,
            "justify_content": null,
            "_view_module": "@jupyter-widgets/base",
            "overflow": null,
            "_model_module_version": "1.2.0",
            "_view_count": null,
            "flex_flow": null,
            "width": null,
            "min_width": null,
            "border": null,
            "align_items": null,
            "bottom": null,
            "_model_module": "@jupyter-widgets/base",
            "top": null,
            "grid_column": null,
            "overflow_y": null,
            "overflow_x": null,
            "grid_auto_flow": null,
            "grid_area": null,
            "grid_template_columns": null,
            "flex": null,
            "_model_name": "LayoutModel",
            "justify_items": null,
            "grid_row": null,
            "max_height": null,
            "align_content": null,
            "visibility": null,
            "align_self": null,
            "height": null,
            "min_height": null,
            "padding": null,
            "grid_auto_rows": null,
            "grid_gap": null,
            "max_width": null,
            "order": null,
            "_view_module_version": "1.2.0",
            "grid_template_areas": null,
            "object_position": null,
            "object_fit": null,
            "grid_auto_columns": null,
            "margin": null,
            "display": null,
            "left": null
          }
        },
        "58899372e71241c097960b072f91692a": {
          "model_module": "@jupyter-widgets/controls",
          "model_name": "HBoxModel",
          "model_module_version": "1.5.0",
          "state": {
            "_view_name": "HBoxView",
            "_dom_classes": [],
            "_model_name": "HBoxModel",
            "_view_module": "@jupyter-widgets/controls",
            "_model_module_version": "1.5.0",
            "_view_count": null,
            "_view_module_version": "1.5.0",
            "box_style": "",
            "layout": "IPY_MODEL_01978f0e601e4b968d2ede973c602883",
            "_model_module": "@jupyter-widgets/controls",
            "children": [
              "IPY_MODEL_dd7b3f312fc741698ce25b62bc37c045",
              "IPY_MODEL_00bcf814b5004781a708e32ba16a635d",
              "IPY_MODEL_5e95309557bb48d28dfdd3e640dd42b5"
            ]
          }
        },
        "01978f0e601e4b968d2ede973c602883": {
          "model_module": "@jupyter-widgets/base",
          "model_name": "LayoutModel",
          "model_module_version": "1.2.0",
          "state": {
            "_view_name": "LayoutView",
            "grid_template_rows": null,
            "right": null,
            "justify_content": null,
            "_view_module": "@jupyter-widgets/base",
            "overflow": null,
            "_model_module_version": "1.2.0",
            "_view_count": null,
            "flex_flow": null,
            "width": null,
            "min_width": null,
            "border": null,
            "align_items": null,
            "bottom": null,
            "_model_module": "@jupyter-widgets/base",
            "top": null,
            "grid_column": null,
            "overflow_y": null,
            "overflow_x": null,
            "grid_auto_flow": null,
            "grid_area": null,
            "grid_template_columns": null,
            "flex": null,
            "_model_name": "LayoutModel",
            "justify_items": null,
            "grid_row": null,
            "max_height": null,
            "align_content": null,
            "visibility": null,
            "align_self": null,
            "height": null,
            "min_height": null,
            "padding": null,
            "grid_auto_rows": null,
            "grid_gap": null,
            "max_width": null,
            "order": null,
            "_view_module_version": "1.2.0",
            "grid_template_areas": null,
            "object_position": null,
            "object_fit": null,
            "grid_auto_columns": null,
            "margin": null,
            "display": null,
            "left": null
          }
        },
        "dd7b3f312fc741698ce25b62bc37c045": {
          "model_module": "@jupyter-widgets/controls",
          "model_name": "HTMLModel",
          "model_module_version": "1.5.0",
          "state": {
            "_view_name": "HTMLView",
            "style": "IPY_MODEL_bf4069b42ec949858a4b35854e23a6a8",
            "_dom_classes": [],
            "description": "",
            "_model_name": "HTMLModel",
            "placeholder": "​",
            "_view_module": "@jupyter-widgets/controls",
            "_model_module_version": "1.5.0",
            "value": "Iteration: 100%",
            "_view_count": null,
            "_view_module_version": "1.5.0",
            "description_tooltip": null,
            "_model_module": "@jupyter-widgets/controls",
            "layout": "IPY_MODEL_be36ed0fbb6840a2859e471fc6cf6957"
          }
        },
        "00bcf814b5004781a708e32ba16a635d": {
          "model_module": "@jupyter-widgets/controls",
          "model_name": "FloatProgressModel",
          "model_module_version": "1.5.0",
          "state": {
            "_view_name": "ProgressView",
            "style": "IPY_MODEL_e1f4dd60a8d340a3b3de401c1d7f781f",
            "_dom_classes": [],
            "description": "",
            "_model_name": "FloatProgressModel",
            "bar_style": "success",
            "max": 360,
            "_view_module": "@jupyter-widgets/controls",
            "_model_module_version": "1.5.0",
            "value": 360,
            "_view_count": null,
            "_view_module_version": "1.5.0",
            "orientation": "horizontal",
            "min": 0,
            "description_tooltip": null,
            "_model_module": "@jupyter-widgets/controls",
            "layout": "IPY_MODEL_1beee579ec2d4dcd82a9e26d6751da2f"
          }
        },
        "5e95309557bb48d28dfdd3e640dd42b5": {
          "model_module": "@jupyter-widgets/controls",
          "model_name": "HTMLModel",
          "model_module_version": "1.5.0",
          "state": {
            "_view_name": "HTMLView",
            "style": "IPY_MODEL_8475da940df44cefb37803215f0c2777",
            "_dom_classes": [],
            "description": "",
            "_model_name": "HTMLModel",
            "placeholder": "​",
            "_view_module": "@jupyter-widgets/controls",
            "_model_module_version": "1.5.0",
            "value": " 360/360 [02:53&lt;00:00,  2.11it/s]",
            "_view_count": null,
            "_view_module_version": "1.5.0",
            "description_tooltip": null,
            "_model_module": "@jupyter-widgets/controls",
            "layout": "IPY_MODEL_0c6bc7d87a184f10af9e2ed07e190640"
          }
        },
        "bf4069b42ec949858a4b35854e23a6a8": {
          "model_module": "@jupyter-widgets/controls",
          "model_name": "DescriptionStyleModel",
          "model_module_version": "1.5.0",
          "state": {
            "_view_name": "StyleView",
            "_model_name": "DescriptionStyleModel",
            "description_width": "",
            "_view_module": "@jupyter-widgets/base",
            "_model_module_version": "1.5.0",
            "_view_count": null,
            "_view_module_version": "1.2.0",
            "_model_module": "@jupyter-widgets/controls"
          }
        },
        "be36ed0fbb6840a2859e471fc6cf6957": {
          "model_module": "@jupyter-widgets/base",
          "model_name": "LayoutModel",
          "model_module_version": "1.2.0",
          "state": {
            "_view_name": "LayoutView",
            "grid_template_rows": null,
            "right": null,
            "justify_content": null,
            "_view_module": "@jupyter-widgets/base",
            "overflow": null,
            "_model_module_version": "1.2.0",
            "_view_count": null,
            "flex_flow": null,
            "width": null,
            "min_width": null,
            "border": null,
            "align_items": null,
            "bottom": null,
            "_model_module": "@jupyter-widgets/base",
            "top": null,
            "grid_column": null,
            "overflow_y": null,
            "overflow_x": null,
            "grid_auto_flow": null,
            "grid_area": null,
            "grid_template_columns": null,
            "flex": null,
            "_model_name": "LayoutModel",
            "justify_items": null,
            "grid_row": null,
            "max_height": null,
            "align_content": null,
            "visibility": null,
            "align_self": null,
            "height": null,
            "min_height": null,
            "padding": null,
            "grid_auto_rows": null,
            "grid_gap": null,
            "max_width": null,
            "order": null,
            "_view_module_version": "1.2.0",
            "grid_template_areas": null,
            "object_position": null,
            "object_fit": null,
            "grid_auto_columns": null,
            "margin": null,
            "display": null,
            "left": null
          }
        },
        "e1f4dd60a8d340a3b3de401c1d7f781f": {
          "model_module": "@jupyter-widgets/controls",
          "model_name": "ProgressStyleModel",
          "model_module_version": "1.5.0",
          "state": {
            "_view_name": "StyleView",
            "_model_name": "ProgressStyleModel",
            "description_width": "",
            "_view_module": "@jupyter-widgets/base",
            "_model_module_version": "1.5.0",
            "_view_count": null,
            "_view_module_version": "1.2.0",
            "bar_color": null,
            "_model_module": "@jupyter-widgets/controls"
          }
        },
        "1beee579ec2d4dcd82a9e26d6751da2f": {
          "model_module": "@jupyter-widgets/base",
          "model_name": "LayoutModel",
          "model_module_version": "1.2.0",
          "state": {
            "_view_name": "LayoutView",
            "grid_template_rows": null,
            "right": null,
            "justify_content": null,
            "_view_module": "@jupyter-widgets/base",
            "overflow": null,
            "_model_module_version": "1.2.0",
            "_view_count": null,
            "flex_flow": null,
            "width": null,
            "min_width": null,
            "border": null,
            "align_items": null,
            "bottom": null,
            "_model_module": "@jupyter-widgets/base",
            "top": null,
            "grid_column": null,
            "overflow_y": null,
            "overflow_x": null,
            "grid_auto_flow": null,
            "grid_area": null,
            "grid_template_columns": null,
            "flex": null,
            "_model_name": "LayoutModel",
            "justify_items": null,
            "grid_row": null,
            "max_height": null,
            "align_content": null,
            "visibility": null,
            "align_self": null,
            "height": null,
            "min_height": null,
            "padding": null,
            "grid_auto_rows": null,
            "grid_gap": null,
            "max_width": null,
            "order": null,
            "_view_module_version": "1.2.0",
            "grid_template_areas": null,
            "object_position": null,
            "object_fit": null,
            "grid_auto_columns": null,
            "margin": null,
            "display": null,
            "left": null
          }
        },
        "8475da940df44cefb37803215f0c2777": {
          "model_module": "@jupyter-widgets/controls",
          "model_name": "DescriptionStyleModel",
          "model_module_version": "1.5.0",
          "state": {
            "_view_name": "StyleView",
            "_model_name": "DescriptionStyleModel",
            "description_width": "",
            "_view_module": "@jupyter-widgets/base",
            "_model_module_version": "1.5.0",
            "_view_count": null,
            "_view_module_version": "1.2.0",
            "_model_module": "@jupyter-widgets/controls"
          }
        },
        "0c6bc7d87a184f10af9e2ed07e190640": {
          "model_module": "@jupyter-widgets/base",
          "model_name": "LayoutModel",
          "model_module_version": "1.2.0",
          "state": {
            "_view_name": "LayoutView",
            "grid_template_rows": null,
            "right": null,
            "justify_content": null,
            "_view_module": "@jupyter-widgets/base",
            "overflow": null,
            "_model_module_version": "1.2.0",
            "_view_count": null,
            "flex_flow": null,
            "width": null,
            "min_width": null,
            "border": null,
            "align_items": null,
            "bottom": null,
            "_model_module": "@jupyter-widgets/base",
            "top": null,
            "grid_column": null,
            "overflow_y": null,
            "overflow_x": null,
            "grid_auto_flow": null,
            "grid_area": null,
            "grid_template_columns": null,
            "flex": null,
            "_model_name": "LayoutModel",
            "justify_items": null,
            "grid_row": null,
            "max_height": null,
            "align_content": null,
            "visibility": null,
            "align_self": null,
            "height": null,
            "min_height": null,
            "padding": null,
            "grid_auto_rows": null,
            "grid_gap": null,
            "max_width": null,
            "order": null,
            "_view_module_version": "1.2.0",
            "grid_template_areas": null,
            "object_position": null,
            "object_fit": null,
            "grid_auto_columns": null,
            "margin": null,
            "display": null,
            "left": null
          }
        }
      }
    }
  },
  "nbformat": 4,
  "nbformat_minor": 0
}